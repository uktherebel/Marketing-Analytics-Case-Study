{
    "metadata": {
        "kernelspec": {
            "name": "SQL",
            "display_name": "SQL",
            "language": "sql"
        },
        "language_info": {
            "name": "sql",
            "version": ""
        }
    },
    "nbformat_minor": 2,
    "nbformat": 4,
    "cells": [
        {
            "cell_type": "code",
            "source": [
                "DROP TABLE IF EXISTS complete_joint_dataset;\n",
                "CREATE TEMP TABLE complete_joint_dataset AS\n",
                "SELECT\n",
                "  rental.customer_id,\n",
                "  inventory.film_id,\n",
                "  film.title,\n",
                "  rental.rental_date,\n",
                "  category.name AS category_name\n",
                "FROM dvd_rentals.rental\n",
                "INNER JOIN dvd_rentals.inventory\n",
                "  ON rental.inventory_id = inventory.inventory_id\n",
                "INNER JOIN dvd_rentals.film\n",
                "  ON inventory.film_id = film.film_id\n",
                "INNER JOIN dvd_rentals.film_category\n",
                "  ON film.film_id = film_category.film_id\n",
                "INNER JOIN dvd_rentals.category\n",
                "  ON film_category.category_id = category.category_id;\n",
                "\n",
                "SELECT * FROM complete_joint_dataset limit 10;"
            ],
            "metadata": {
                "azdata_cell_guid": "0812739b-b440-4823-aaab-3c13fa6134d7",
                "language": "sql"
            },
            "outputs": [
                {
                    "output_type": "display_data",
                    "data": {
                        "text/html": "NOTICE:  table \"complete_joint_dataset\" does not exist, skipping\n"
                    },
                    "metadata": {}
                },
                {
                    "output_type": "display_data",
                    "data": {
                        "text/html": "Commands completed successfully"
                    },
                    "metadata": {}
                },
                {
                    "output_type": "display_data",
                    "data": {
                        "text/html": "Commands completed successfully"
                    },
                    "metadata": {}
                },
                {
                    "output_type": "display_data",
                    "data": {
                        "text/html": "(10 row(s) affected)"
                    },
                    "metadata": {}
                },
                {
                    "output_type": "display_data",
                    "data": {
                        "text/html": "Total execution time: 00:00:00.157"
                    },
                    "metadata": {}
                },
                {
                    "output_type": "execute_result",
                    "execution_count": 1,
                    "data": {
                        "application/vnd.dataresource+json": {
                            "schema": {
                                "fields": [
                                    {
                                        "name": "customer_id"
                                    },
                                    {
                                        "name": "film_id"
                                    },
                                    {
                                        "name": "title"
                                    },
                                    {
                                        "name": "rental_date"
                                    },
                                    {
                                        "name": "category_name"
                                    }
                                ]
                            },
                            "data": [
                                {
                                    "0": "130",
                                    "1": "80",
                                    "2": "BLANKET BEVERLY",
                                    "3": "2005-05-24T22:53:30",
                                    "4": "Family"
                                },
                                {
                                    "0": "459",
                                    "1": "333",
                                    "2": "FREAKY POCUS",
                                    "3": "2005-05-24T22:54:33",
                                    "4": "Music"
                                },
                                {
                                    "0": "408",
                                    "1": "373",
                                    "2": "GRADUATE LORD",
                                    "3": "2005-05-24T23:03:39",
                                    "4": "Children"
                                },
                                {
                                    "0": "333",
                                    "1": "535",
                                    "2": "LOVE SUICIDES",
                                    "3": "2005-05-24T23:04:41",
                                    "4": "Horror"
                                },
                                {
                                    "0": "222",
                                    "1": "450",
                                    "2": "IDOLS SNATCHERS",
                                    "3": "2005-05-24T23:05:21",
                                    "4": "Children"
                                },
                                {
                                    "0": "549",
                                    "1": "613",
                                    "2": "MYSTIC TRUMAN",
                                    "3": "2005-05-24T23:08:07",
                                    "4": "Comedy"
                                },
                                {
                                    "0": "269",
                                    "1": "870",
                                    "2": "SWARM GOLD",
                                    "3": "2005-05-24T23:11:53",
                                    "4": "Horror"
                                },
                                {
                                    "0": "239",
                                    "1": "510",
                                    "2": "LAWLESS VISION",
                                    "3": "2005-05-24T23:31:46",
                                    "4": "Animation"
                                },
                                {
                                    "0": "126",
                                    "1": "565",
                                    "2": "MATRIX SNOWMAN",
                                    "3": "2005-05-25T00:00:40",
                                    "4": "Foreign"
                                },
                                {
                                    "0": "399",
                                    "1": "396",
                                    "2": "HANGING DEEP",
                                    "3": "2005-05-25T00:02:21",
                                    "4": "Drama"
                                }
                            ]
                        },
                        "text/html": "<table><tr><th>customer_id</th><th>film_id</th><th>title</th><th>rental_date</th><th>category_name</th></tr><tr><td>130</td><td>80</td><td>BLANKET BEVERLY</td><td>2005-05-24T22:53:30</td><td>Family</td></tr><tr><td>459</td><td>333</td><td>FREAKY POCUS</td><td>2005-05-24T22:54:33</td><td>Music</td></tr><tr><td>408</td><td>373</td><td>GRADUATE LORD</td><td>2005-05-24T23:03:39</td><td>Children</td></tr><tr><td>333</td><td>535</td><td>LOVE SUICIDES</td><td>2005-05-24T23:04:41</td><td>Horror</td></tr><tr><td>222</td><td>450</td><td>IDOLS SNATCHERS</td><td>2005-05-24T23:05:21</td><td>Children</td></tr><tr><td>549</td><td>613</td><td>MYSTIC TRUMAN</td><td>2005-05-24T23:08:07</td><td>Comedy</td></tr><tr><td>269</td><td>870</td><td>SWARM GOLD</td><td>2005-05-24T23:11:53</td><td>Horror</td></tr><tr><td>239</td><td>510</td><td>LAWLESS VISION</td><td>2005-05-24T23:31:46</td><td>Animation</td></tr><tr><td>126</td><td>565</td><td>MATRIX SNOWMAN</td><td>2005-05-25T00:00:40</td><td>Foreign</td></tr><tr><td>399</td><td>396</td><td>HANGING DEEP</td><td>2005-05-25T00:02:21</td><td>Drama</td></tr></table>"
                    },
                    "metadata": {}
                }
            ],
            "execution_count": 1
        },
        {
            "cell_type": "code",
            "source": [
                "SELECT \n",
                "    customer_id, \n",
                "    category_name, \n",
                "    COUNT(*) AS rental_count\n",
                "FROM complete_joint_dataset\n",
                "WHERE customer_id in (1, 2, 3)\n",
                "GROUP BY \n",
                "    customer_id,\n",
                "    category_name\n",
                "ORDER BY \n",
                "    customer_id,\n",
                "    rental_count DESC; \n",
                "\n",
                "/* Customer 3: both Sci-Fi and Animation categories have a rental_count \n",
                "value of 3 */\n",
                "-- This is a tie "
            ],
            "metadata": {
                "azdata_cell_guid": "f732204c-aa74-4652-9a77-cf3521ed9eed",
                "language": "sql",
                "tags": []
            },
            "outputs": [
                {
                    "output_type": "display_data",
                    "data": {
                        "text/html": "(40 row(s) affected)"
                    },
                    "metadata": {}
                },
                {
                    "output_type": "display_data",
                    "data": {
                        "text/html": "Total execution time: 00:00:00.060"
                    },
                    "metadata": {}
                },
                {
                    "output_type": "execute_result",
                    "execution_count": 2,
                    "data": {
                        "application/vnd.dataresource+json": {
                            "schema": {
                                "fields": [
                                    {
                                        "name": "customer_id"
                                    },
                                    {
                                        "name": "category_name"
                                    },
                                    {
                                        "name": "rental_count"
                                    }
                                ]
                            },
                            "data": [
                                {
                                    "0": "1",
                                    "1": "Classics",
                                    "2": "6"
                                },
                                {
                                    "0": "1",
                                    "1": "Comedy",
                                    "2": "5"
                                },
                                {
                                    "0": "1",
                                    "1": "Drama",
                                    "2": "4"
                                },
                                {
                                    "0": "1",
                                    "1": "Action",
                                    "2": "2"
                                },
                                {
                                    "0": "1",
                                    "1": "Music",
                                    "2": "2"
                                },
                                {
                                    "0": "1",
                                    "1": "New",
                                    "2": "2"
                                },
                                {
                                    "0": "1",
                                    "1": "Sci-Fi",
                                    "2": "2"
                                },
                                {
                                    "0": "1",
                                    "1": "Sports",
                                    "2": "2"
                                },
                                {
                                    "0": "1",
                                    "1": "Animation",
                                    "2": "2"
                                },
                                {
                                    "0": "1",
                                    "1": "Documentary",
                                    "2": "1"
                                },
                                {
                                    "0": "1",
                                    "1": "Family",
                                    "2": "1"
                                },
                                {
                                    "0": "1",
                                    "1": "Games",
                                    "2": "1"
                                },
                                {
                                    "0": "1",
                                    "1": "Travel",
                                    "2": "1"
                                },
                                {
                                    "0": "1",
                                    "1": "Foreign",
                                    "2": "1"
                                },
                                {
                                    "0": "2",
                                    "1": "Sports",
                                    "2": "5"
                                },
                                {
                                    "0": "2",
                                    "1": "Classics",
                                    "2": "4"
                                },
                                {
                                    "0": "2",
                                    "1": "Animation",
                                    "2": "3"
                                },
                                {
                                    "0": "2",
                                    "1": "Action",
                                    "2": "3"
                                },
                                {
                                    "0": "2",
                                    "1": "Travel",
                                    "2": "2"
                                },
                                {
                                    "0": "2",
                                    "1": "Games",
                                    "2": "2"
                                },
                                {
                                    "0": "2",
                                    "1": "New",
                                    "2": "2"
                                },
                                {
                                    "0": "2",
                                    "1": "Foreign",
                                    "2": "1"
                                },
                                {
                                    "0": "2",
                                    "1": "Children",
                                    "2": "1"
                                },
                                {
                                    "0": "2",
                                    "1": "Documentary",
                                    "2": "1"
                                },
                                {
                                    "0": "2",
                                    "1": "Family",
                                    "2": "1"
                                },
                                {
                                    "0": "2",
                                    "1": "Music",
                                    "2": "1"
                                },
                                {
                                    "0": "2",
                                    "1": "Sci-Fi",
                                    "2": "1"
                                },
                                {
                                    "0": "3",
                                    "1": "Action",
                                    "2": "4"
                                },
                                {
                                    "0": "3",
                                    "1": "Animation",
                                    "2": "3"
                                },
                                {
                                    "0": "3",
                                    "1": "Sci-Fi",
                                    "2": "3"
                                },
                                {
                                    "0": "3",
                                    "1": "Sports",
                                    "2": "2"
                                },
                                {
                                    "0": "3",
                                    "1": "Comedy",
                                    "2": "2"
                                },
                                {
                                    "0": "3",
                                    "1": "Games",
                                    "2": "2"
                                },
                                {
                                    "0": "3",
                                    "1": "Horror",
                                    "2": "2"
                                },
                                {
                                    "0": "3",
                                    "1": "Music",
                                    "2": "2"
                                },
                                {
                                    "0": "3",
                                    "1": "New",
                                    "2": "2"
                                },
                                {
                                    "0": "3",
                                    "1": "Drama",
                                    "2": "1"
                                },
                                {
                                    "0": "3",
                                    "1": "Family",
                                    "2": "1"
                                },
                                {
                                    "0": "3",
                                    "1": "Documentary",
                                    "2": "1"
                                },
                                {
                                    "0": "3",
                                    "1": "Classics",
                                    "2": "1"
                                }
                            ]
                        },
                        "text/html": "<table><tr><th>customer_id</th><th>category_name</th><th>rental_count</th></tr><tr><td>1</td><td>Classics</td><td>6</td></tr><tr><td>1</td><td>Comedy</td><td>5</td></tr><tr><td>1</td><td>Drama</td><td>4</td></tr><tr><td>1</td><td>Action</td><td>2</td></tr><tr><td>1</td><td>Music</td><td>2</td></tr><tr><td>1</td><td>New</td><td>2</td></tr><tr><td>1</td><td>Sci-Fi</td><td>2</td></tr><tr><td>1</td><td>Sports</td><td>2</td></tr><tr><td>1</td><td>Animation</td><td>2</td></tr><tr><td>1</td><td>Documentary</td><td>1</td></tr><tr><td>1</td><td>Family</td><td>1</td></tr><tr><td>1</td><td>Games</td><td>1</td></tr><tr><td>1</td><td>Travel</td><td>1</td></tr><tr><td>1</td><td>Foreign</td><td>1</td></tr><tr><td>2</td><td>Sports</td><td>5</td></tr><tr><td>2</td><td>Classics</td><td>4</td></tr><tr><td>2</td><td>Animation</td><td>3</td></tr><tr><td>2</td><td>Action</td><td>3</td></tr><tr><td>2</td><td>Travel</td><td>2</td></tr><tr><td>2</td><td>Games</td><td>2</td></tr><tr><td>2</td><td>New</td><td>2</td></tr><tr><td>2</td><td>Foreign</td><td>1</td></tr><tr><td>2</td><td>Children</td><td>1</td></tr><tr><td>2</td><td>Documentary</td><td>1</td></tr><tr><td>2</td><td>Family</td><td>1</td></tr><tr><td>2</td><td>Music</td><td>1</td></tr><tr><td>2</td><td>Sci-Fi</td><td>1</td></tr><tr><td>3</td><td>Action</td><td>4</td></tr><tr><td>3</td><td>Animation</td><td>3</td></tr><tr><td>3</td><td>Sci-Fi</td><td>3</td></tr><tr><td>3</td><td>Sports</td><td>2</td></tr><tr><td>3</td><td>Comedy</td><td>2</td></tr><tr><td>3</td><td>Games</td><td>2</td></tr><tr><td>3</td><td>Horror</td><td>2</td></tr><tr><td>3</td><td>Music</td><td>2</td></tr><tr><td>3</td><td>New</td><td>2</td></tr><tr><td>3</td><td>Drama</td><td>1</td></tr><tr><td>3</td><td>Family</td><td>1</td></tr><tr><td>3</td><td>Documentary</td><td>1</td></tr><tr><td>3</td><td>Classics</td><td>1</td></tr></table>"
                    },
                    "metadata": {}
                }
            ],
            "execution_count": 2
        },
        {
            "cell_type": "code",
            "source": [
                "-- dealing with ties \n",
                "/* Creating joint data set with rental_date used as additional sort \n",
                "to deal with ties */\n",
                "\n",
                "DROP TABLE IF EXISTS complete_joint_dataset_rental_date; \n",
                "CREATE TEMP TABLE complete_joint_dataset_rental_date AS \n",
                "SELECT \n",
                "    rental.customer_id, \n",
                "    rental.rental_date,\n",
                "    inventory.film_id, \n",
                "    film.title, \n",
                "    category.name AS category_name \n",
                "FROM dvd_rentals.rental\n",
                "INNER JOIN dvd_rentals.inventory\n",
                "    ON rental.inventory_id = inventory.inventory_id\n",
                "INNER JOIN dvd_rentals.film\n",
                "    ON inventory.film_id = film.film_id \n",
                "INNER JOIN dvd_rentals.film_category\n",
                "    ON film.film_id = film_category.film_id \n",
                "INNER JOIN dvd_rentals.category\n",
                "    ON film_category.category_id = category.category_id; \n",
                "\n",
                "-- Performing group by aggregations on category_name and customer_id\n",
                "SELECT \n",
                "    customer_id, \n",
                "    category_name, \n",
                "    COUNT(*) AS rental_count, \n",
                "    MAX(rental_date) AS latest_rental_date \n",
                "FROM complete_joint_dataset_rental_date\n",
                "-- note the different filter \n",
                "WHERE customer_id = 3 \n",
                "GROUP BY \n",
                "    customer_id, \n",
                "    category_name\n",
                "ORDER BY \n",
                "    customer_id, \n",
                "    rental_count DESC, \n",
                "    latest_rental_date DESC \n",
                ""
            ],
            "metadata": {
                "language": "sql",
                "azdata_cell_guid": "0ed423bd-7e82-4d3b-9249-827448e18627"
            },
            "outputs": [
                {
                    "output_type": "display_data",
                    "data": {
                        "text/html": "NOTICE:  table \"complete_joint_dataset_rental_date\" does not exist, skipping\n"
                    },
                    "metadata": {}
                },
                {
                    "output_type": "display_data",
                    "data": {
                        "text/html": "Commands completed successfully"
                    },
                    "metadata": {}
                },
                {
                    "output_type": "display_data",
                    "data": {
                        "text/html": "Commands completed successfully"
                    },
                    "metadata": {}
                },
                {
                    "output_type": "display_data",
                    "data": {
                        "text/html": "(13 row(s) affected)"
                    },
                    "metadata": {}
                },
                {
                    "output_type": "display_data",
                    "data": {
                        "text/html": "Total execution time: 00:00:00.079"
                    },
                    "metadata": {}
                },
                {
                    "output_type": "execute_result",
                    "execution_count": 3,
                    "data": {
                        "application/vnd.dataresource+json": {
                            "schema": {
                                "fields": [
                                    {
                                        "name": "customer_id"
                                    },
                                    {
                                        "name": "category_name"
                                    },
                                    {
                                        "name": "rental_count"
                                    },
                                    {
                                        "name": "latest_rental_date"
                                    }
                                ]
                            },
                            "data": [
                                {
                                    "0": "3",
                                    "1": "Action",
                                    "2": "4",
                                    "3": "2005-07-29T11:07:04"
                                },
                                {
                                    "0": "3",
                                    "1": "Sci-Fi",
                                    "2": "3",
                                    "3": "2005-08-22T09:37:27"
                                },
                                {
                                    "0": "3",
                                    "1": "Animation",
                                    "2": "3",
                                    "3": "2005-08-18T14:49:55"
                                },
                                {
                                    "0": "3",
                                    "1": "Music",
                                    "2": "2",
                                    "3": "2005-08-23T07:10:14"
                                },
                                {
                                    "0": "3",
                                    "1": "Comedy",
                                    "2": "2",
                                    "3": "2005-08-20T06:14:12"
                                },
                                {
                                    "0": "3",
                                    "1": "Horror",
                                    "2": "2",
                                    "3": "2005-07-31T11:32:58"
                                },
                                {
                                    "0": "3",
                                    "1": "Sports",
                                    "2": "2",
                                    "3": "2005-07-30T13:31:20"
                                },
                                {
                                    "0": "3",
                                    "1": "New",
                                    "2": "2",
                                    "3": "2005-07-28T04:46:30"
                                },
                                {
                                    "0": "3",
                                    "1": "Games",
                                    "2": "2",
                                    "3": "2005-07-27T04:54:42"
                                },
                                {
                                    "0": "3",
                                    "1": "Classics",
                                    "2": "1",
                                    "3": "2005-08-01T14:19:48"
                                },
                                {
                                    "0": "3",
                                    "1": "Family",
                                    "2": "1",
                                    "3": "2005-07-31T03:27:58"
                                },
                                {
                                    "0": "3",
                                    "1": "Drama",
                                    "2": "1",
                                    "3": "2005-07-30T21:45:46"
                                },
                                {
                                    "0": "3",
                                    "1": "Documentary",
                                    "2": "1",
                                    "3": "2005-06-19T08:34:53"
                                }
                            ]
                        },
                        "text/html": "<table><tr><th>customer_id</th><th>category_name</th><th>rental_count</th><th>latest_rental_date</th></tr><tr><td>3</td><td>Action</td><td>4</td><td>2005-07-29T11:07:04</td></tr><tr><td>3</td><td>Sci-Fi</td><td>3</td><td>2005-08-22T09:37:27</td></tr><tr><td>3</td><td>Animation</td><td>3</td><td>2005-08-18T14:49:55</td></tr><tr><td>3</td><td>Music</td><td>2</td><td>2005-08-23T07:10:14</td></tr><tr><td>3</td><td>Comedy</td><td>2</td><td>2005-08-20T06:14:12</td></tr><tr><td>3</td><td>Horror</td><td>2</td><td>2005-07-31T11:32:58</td></tr><tr><td>3</td><td>Sports</td><td>2</td><td>2005-07-30T13:31:20</td></tr><tr><td>3</td><td>New</td><td>2</td><td>2005-07-28T04:46:30</td></tr><tr><td>3</td><td>Games</td><td>2</td><td>2005-07-27T04:54:42</td></tr><tr><td>3</td><td>Classics</td><td>1</td><td>2005-08-01T14:19:48</td></tr><tr><td>3</td><td>Family</td><td>1</td><td>2005-07-31T03:27:58</td></tr><tr><td>3</td><td>Drama</td><td>1</td><td>2005-07-30T21:45:46</td></tr><tr><td>3</td><td>Documentary</td><td>1</td><td>2005-06-19T08:34:53</td></tr></table>"
                    },
                    "metadata": {}
                }
            ],
            "execution_count": 3
        },
        {
            "cell_type": "code",
            "source": [
                "-- top 2 category average \n",
                "DROP TABLE IF EXISTS top_2_category_rental_count; \n",
                "CREATE TEMP TABLE top_2_category_rental_count AS \n",
                "WITH input_data (customer_id, category_name, rental_count) AS (\n",
                "    VALUES \n",
                "    (1, 'Classics', 6),\n",
                "    (1, 'Comedy', 5),\n",
                "    (2, 'Sports', 5),\n",
                "    (2, 'Classics', 4), \n",
                "    (3, 'Action', 4),\n",
                "    (3, 'Sci-fi', 3)\n",
                ")\n",
                "SELECT * FROM input_data; \n",
                "\n",
                "SELECT * FROM top_2_category_rental_count"
            ],
            "metadata": {
                "language": "sql",
                "azdata_cell_guid": "7b9b151d-e748-4614-a08c-03079c85e815"
            },
            "outputs": [
                {
                    "output_type": "display_data",
                    "data": {
                        "text/html": "NOTICE:  table \"top_2_category_rental_count\" does not exist, skipping\n"
                    },
                    "metadata": {}
                },
                {
                    "output_type": "display_data",
                    "data": {
                        "text/html": "Commands completed successfully"
                    },
                    "metadata": {}
                },
                {
                    "output_type": "display_data",
                    "data": {
                        "text/html": "Commands completed successfully"
                    },
                    "metadata": {}
                },
                {
                    "output_type": "display_data",
                    "data": {
                        "text/html": "(6 row(s) affected)"
                    },
                    "metadata": {}
                },
                {
                    "output_type": "display_data",
                    "data": {
                        "text/html": "Total execution time: 00:00:00.079"
                    },
                    "metadata": {}
                },
                {
                    "output_type": "execute_result",
                    "execution_count": 4,
                    "data": {
                        "application/vnd.dataresource+json": {
                            "schema": {
                                "fields": [
                                    {
                                        "name": "customer_id"
                                    },
                                    {
                                        "name": "category_name"
                                    },
                                    {
                                        "name": "rental_count"
                                    }
                                ]
                            },
                            "data": [
                                {
                                    "0": "1",
                                    "1": "Classics",
                                    "2": "6"
                                },
                                {
                                    "0": "1",
                                    "1": "Comedy",
                                    "2": "5"
                                },
                                {
                                    "0": "2",
                                    "1": "Sports",
                                    "2": "5"
                                },
                                {
                                    "0": "2",
                                    "1": "Classics",
                                    "2": "4"
                                },
                                {
                                    "0": "3",
                                    "1": "Action",
                                    "2": "4"
                                },
                                {
                                    "0": "3",
                                    "1": "Sci-fi",
                                    "2": "3"
                                }
                            ]
                        },
                        "text/html": "<table><tr><th>customer_id</th><th>category_name</th><th>rental_count</th></tr><tr><td>1</td><td>Classics</td><td>6</td></tr><tr><td>1</td><td>Comedy</td><td>5</td></tr><tr><td>2</td><td>Sports</td><td>5</td></tr><tr><td>2</td><td>Classics</td><td>4</td></tr><tr><td>3</td><td>Action</td><td>4</td></tr><tr><td>3</td><td>Sci-fi</td><td>3</td></tr></table>"
                    },
                    "metadata": {}
                }
            ],
            "execution_count": 4
        },
        {
            "cell_type": "code",
            "source": [
                "-- comparing averages for customers 1, 2, 3 \n",
                "-- aggregated averages \n",
                "WITH aggregated_rental_count AS (\n",
                "    SELECT \n",
                "        customer_id,\n",
                "        category_name, \n",
                "        COUNT(*) AS rental_count\n",
                "    FROM complete_joint_dataset_rental_date\n",
                "    WHERE customer_id in (1, 2, 3)\n",
                "    GROUP BY \n",
                "        customer_id,\n",
                "        category_name \n",
                ")\n",
                "\n",
                "SELECT \n",
                "    category_name,\n",
                "    ROUND(AVG(rental_count), 1) AS avg_rental_count\n",
                "FROM aggregated_rental_count\n",
                "GROUP BY \n",
                "    category_name\n",
                "ORDER BY \n",
                "    category_name; \n",
                "\n",
                "\n",
                "-- avg top 2 rental count\n",
                "SELECT\n",
                "    category_name,\n",
                "    ROUND(AVG(rental_count), 1) as average_rental_count\n",
                "FROM top_2_category_rental_count\n",
                "GROUP BY category_name \n",
                "ORDER BY category_name; "
            ],
            "metadata": {
                "language": "sql",
                "azdata_cell_guid": "892cb87b-163e-454c-885b-3c336e5f5960"
            },
            "outputs": [
                {
                    "output_type": "display_data",
                    "data": {
                        "text/html": "(16 row(s) affected)"
                    },
                    "metadata": {}
                },
                {
                    "output_type": "display_data",
                    "data": {
                        "text/html": "(5 row(s) affected)"
                    },
                    "metadata": {}
                },
                {
                    "output_type": "display_data",
                    "data": {
                        "text/html": "Total execution time: 00:00:00.062"
                    },
                    "metadata": {}
                },
                {
                    "output_type": "execute_result",
                    "execution_count": 5,
                    "data": {
                        "application/vnd.dataresource+json": {
                            "schema": {
                                "fields": [
                                    {
                                        "name": "category_name"
                                    },
                                    {
                                        "name": "avg_rental_count"
                                    }
                                ]
                            },
                            "data": [
                                {
                                    "0": "Action",
                                    "1": "3.0"
                                },
                                {
                                    "0": "Animation",
                                    "1": "2.7"
                                },
                                {
                                    "0": "Children",
                                    "1": "1.0"
                                },
                                {
                                    "0": "Classics",
                                    "1": "3.7"
                                },
                                {
                                    "0": "Comedy",
                                    "1": "3.5"
                                },
                                {
                                    "0": "Documentary",
                                    "1": "1.0"
                                },
                                {
                                    "0": "Drama",
                                    "1": "2.5"
                                },
                                {
                                    "0": "Family",
                                    "1": "1.0"
                                },
                                {
                                    "0": "Foreign",
                                    "1": "1.0"
                                },
                                {
                                    "0": "Games",
                                    "1": "1.7"
                                },
                                {
                                    "0": "Horror",
                                    "1": "2.0"
                                },
                                {
                                    "0": "Music",
                                    "1": "1.7"
                                },
                                {
                                    "0": "New",
                                    "1": "2.0"
                                },
                                {
                                    "0": "Sci-Fi",
                                    "1": "2.0"
                                },
                                {
                                    "0": "Sports",
                                    "1": "3.0"
                                },
                                {
                                    "0": "Travel",
                                    "1": "1.5"
                                }
                            ]
                        },
                        "text/html": "<table><tr><th>category_name</th><th>avg_rental_count</th></tr><tr><td>Action</td><td>3.0</td></tr><tr><td>Animation</td><td>2.7</td></tr><tr><td>Children</td><td>1.0</td></tr><tr><td>Classics</td><td>3.7</td></tr><tr><td>Comedy</td><td>3.5</td></tr><tr><td>Documentary</td><td>1.0</td></tr><tr><td>Drama</td><td>2.5</td></tr><tr><td>Family</td><td>1.0</td></tr><tr><td>Foreign</td><td>1.0</td></tr><tr><td>Games</td><td>1.7</td></tr><tr><td>Horror</td><td>2.0</td></tr><tr><td>Music</td><td>1.7</td></tr><tr><td>New</td><td>2.0</td></tr><tr><td>Sci-Fi</td><td>2.0</td></tr><tr><td>Sports</td><td>3.0</td></tr><tr><td>Travel</td><td>1.5</td></tr></table>"
                    },
                    "metadata": {}
                },
                {
                    "output_type": "execute_result",
                    "execution_count": 5,
                    "data": {
                        "application/vnd.dataresource+json": {
                            "schema": {
                                "fields": [
                                    {
                                        "name": "category_name"
                                    },
                                    {
                                        "name": "average_rental_count"
                                    }
                                ]
                            },
                            "data": [
                                {
                                    "0": "Action",
                                    "1": "4.0"
                                },
                                {
                                    "0": "Classics",
                                    "1": "5.0"
                                },
                                {
                                    "0": "Comedy",
                                    "1": "5.0"
                                },
                                {
                                    "0": "Sci-fi",
                                    "1": "3.0"
                                },
                                {
                                    "0": "Sports",
                                    "1": "5.0"
                                }
                            ]
                        },
                        "text/html": "<table><tr><th>category_name</th><th>average_rental_count</th></tr><tr><td>Action</td><td>4.0</td></tr><tr><td>Classics</td><td>5.0</td></tr><tr><td>Comedy</td><td>5.0</td></tr><tr><td>Sci-fi</td><td>3.0</td></tr><tr><td>Sports</td><td>5.0</td></tr></table>"
                    },
                    "metadata": {}
                }
            ],
            "execution_count": 5
        },
        {
            "cell_type": "markdown",
            "source": [
                "# 3\\. Data Aggregation on Whole Dataset"
            ],
            "metadata": {
                "language": "sql",
                "azdata_cell_guid": "3546e757-2b6f-423c-84d5-64e923c8db7d"
            },
            "attachments": {}
        },
        {
            "cell_type": "markdown",
            "source": [
                "## 3.1. Customer Rental Count"
            ],
            "metadata": {
                "language": "sql",
                "azdata_cell_guid": "aa9559b3-fde4-4959-83d8-216b52bf99d3"
            },
            "attachments": {}
        },
        {
            "cell_type": "code",
            "source": [
                "-- Data aggregation on whole dataset\n",
                "\n",
                "-- 3.1 : customer rental count\n",
                "DROP TABLE IF EXISTS category_rental_counts; \n",
                "CREATE TEMP TABLE category_rental_counts AS \n",
                "SELECT\n",
                "    customer_id, \n",
                "    category_name, \n",
                "    COUNT(*) AS rental_count,\n",
                "    MAX(rental_date) AS latest_rental_date\n",
                "FROM complete_joint_dataset_rental_date\n",
                "GROUP BY\n",
                "    customer_id,\n",
                "    category_name; \n",
                "\n",
                "SELECT *\n",
                "FROM category_rental_counts\n",
                "WHERE customer_id = 1 \n",
                "ORDER BY \n",
                "    rental_count DESC \n",
                ""
            ],
            "metadata": {
                "language": "sql",
                "azdata_cell_guid": "76e5368c-0133-4e7c-8be8-41b7543f7744"
            },
            "outputs": [
                {
                    "output_type": "display_data",
                    "data": {
                        "text/html": "NOTICE:  table \"category_rental_counts\" does not exist, skipping\n"
                    },
                    "metadata": {}
                },
                {
                    "output_type": "display_data",
                    "data": {
                        "text/html": "Commands completed successfully"
                    },
                    "metadata": {}
                },
                {
                    "output_type": "display_data",
                    "data": {
                        "text/html": "Commands completed successfully"
                    },
                    "metadata": {}
                },
                {
                    "output_type": "display_data",
                    "data": {
                        "text/html": "(14 row(s) affected)"
                    },
                    "metadata": {}
                },
                {
                    "output_type": "display_data",
                    "data": {
                        "text/html": "Total execution time: 00:00:00.042"
                    },
                    "metadata": {}
                },
                {
                    "output_type": "execute_result",
                    "execution_count": 4,
                    "data": {
                        "application/vnd.dataresource+json": {
                            "schema": {
                                "fields": [
                                    {
                                        "name": "customer_id"
                                    },
                                    {
                                        "name": "category_name"
                                    },
                                    {
                                        "name": "rental_count"
                                    },
                                    {
                                        "name": "latest_rental_date"
                                    }
                                ]
                            },
                            "data": [
                                {
                                    "0": "1",
                                    "1": "Classics",
                                    "2": "6",
                                    "3": "2005-08-19T09:55:16"
                                },
                                {
                                    "0": "1",
                                    "1": "Comedy",
                                    "2": "5",
                                    "3": "2005-08-22T19:41:37"
                                },
                                {
                                    "0": "1",
                                    "1": "Drama",
                                    "2": "4",
                                    "3": "2005-08-18T03:57:29"
                                },
                                {
                                    "0": "1",
                                    "1": "Sci-Fi",
                                    "2": "2",
                                    "3": "2005-08-21T23:33:57"
                                },
                                {
                                    "0": "1",
                                    "1": "Animation",
                                    "2": "2",
                                    "3": "2005-08-22T20:03:46"
                                },
                                {
                                    "0": "1",
                                    "1": "Sports",
                                    "2": "2",
                                    "3": "2005-07-08T07:33:56"
                                },
                                {
                                    "0": "1",
                                    "1": "Music",
                                    "2": "2",
                                    "3": "2005-07-09T16:38:01"
                                },
                                {
                                    "0": "1",
                                    "1": "Action",
                                    "2": "2",
                                    "3": "2005-08-17T12:37:54"
                                },
                                {
                                    "0": "1",
                                    "1": "New",
                                    "2": "2",
                                    "3": "2005-08-19T13:56:54"
                                },
                                {
                                    "0": "1",
                                    "1": "Travel",
                                    "2": "1",
                                    "3": "2005-07-11T10:13:46"
                                },
                                {
                                    "0": "1",
                                    "1": "Family",
                                    "2": "1",
                                    "3": "2005-08-02T18:01:38"
                                },
                                {
                                    "0": "1",
                                    "1": "Documentary",
                                    "2": "1",
                                    "3": "2005-08-01T08:51:04"
                                },
                                {
                                    "0": "1",
                                    "1": "Games",
                                    "2": "1",
                                    "3": "2005-07-08T03:17:05"
                                },
                                {
                                    "0": "1",
                                    "1": "Foreign",
                                    "2": "1",
                                    "3": "2005-07-28T16:18:23"
                                }
                            ]
                        },
                        "text/html": "<table><tr><th>customer_id</th><th>category_name</th><th>rental_count</th><th>latest_rental_date</th></tr><tr><td>1</td><td>Classics</td><td>6</td><td>2005-08-19T09:55:16</td></tr><tr><td>1</td><td>Comedy</td><td>5</td><td>2005-08-22T19:41:37</td></tr><tr><td>1</td><td>Drama</td><td>4</td><td>2005-08-18T03:57:29</td></tr><tr><td>1</td><td>Sci-Fi</td><td>2</td><td>2005-08-21T23:33:57</td></tr><tr><td>1</td><td>Animation</td><td>2</td><td>2005-08-22T20:03:46</td></tr><tr><td>1</td><td>Sports</td><td>2</td><td>2005-07-08T07:33:56</td></tr><tr><td>1</td><td>Music</td><td>2</td><td>2005-07-09T16:38:01</td></tr><tr><td>1</td><td>Action</td><td>2</td><td>2005-08-17T12:37:54</td></tr><tr><td>1</td><td>New</td><td>2</td><td>2005-08-19T13:56:54</td></tr><tr><td>1</td><td>Travel</td><td>1</td><td>2005-07-11T10:13:46</td></tr><tr><td>1</td><td>Family</td><td>1</td><td>2005-08-02T18:01:38</td></tr><tr><td>1</td><td>Documentary</td><td>1</td><td>2005-08-01T08:51:04</td></tr><tr><td>1</td><td>Games</td><td>1</td><td>2005-07-08T03:17:05</td></tr><tr><td>1</td><td>Foreign</td><td>1</td><td>2005-07-28T16:18:23</td></tr></table>"
                    },
                    "metadata": {}
                }
            ],
            "execution_count": 4
        },
        {
            "cell_type": "markdown",
            "source": [
                "## 3.2. Total Customer Rentals"
            ],
            "metadata": {
                "language": "sql",
                "azdata_cell_guid": "55fd38ce-cd2f-49a0-9e70-5480e14a93e3"
            },
            "attachments": {}
        },
        {
            "cell_type": "code",
            "source": [
                "DROP TABLE IF EXISTS total_customer_rentals; \n",
                "CREATE TEMP TABLE total_customer_rentals AS \n",
                "SELECT \n",
                "    customer_id,\n",
                "    SUM(rental_count) AS total_rental_count\n",
                "FROM category_rental_counts\n",
                "GROUP BY\n",
                "    customer_id; \n",
                "\n",
                "SELECT *\n",
                "FROM total_customer_rentals\n",
                "WHERE customer_id <= 5\n",
                "ORDER BY customer_id;\n",
                ""
            ],
            "metadata": {
                "language": "sql",
                "azdata_cell_guid": "fbaa858e-cab1-4815-9ddd-2a9ea78b689c"
            },
            "outputs": [
                {
                    "output_type": "display_data",
                    "data": {
                        "text/html": "NOTICE:  table \"total_customer_rentals\" does not exist, skipping\n"
                    },
                    "metadata": {}
                },
                {
                    "output_type": "display_data",
                    "data": {
                        "text/html": "Commands completed successfully"
                    },
                    "metadata": {}
                },
                {
                    "output_type": "display_data",
                    "data": {
                        "text/html": "Commands completed successfully"
                    },
                    "metadata": {}
                },
                {
                    "output_type": "display_data",
                    "data": {
                        "text/html": "(5 row(s) affected)"
                    },
                    "metadata": {}
                },
                {
                    "output_type": "display_data",
                    "data": {
                        "text/html": "Total execution time: 00:00:00.023"
                    },
                    "metadata": {}
                },
                {
                    "output_type": "execute_result",
                    "execution_count": 5,
                    "data": {
                        "application/vnd.dataresource+json": {
                            "schema": {
                                "fields": [
                                    {
                                        "name": "customer_id"
                                    },
                                    {
                                        "name": "total_rental_count"
                                    }
                                ]
                            },
                            "data": [
                                {
                                    "0": "1",
                                    "1": "32"
                                },
                                {
                                    "0": "2",
                                    "1": "27"
                                },
                                {
                                    "0": "3",
                                    "1": "26"
                                },
                                {
                                    "0": "4",
                                    "1": "22"
                                },
                                {
                                    "0": "5",
                                    "1": "38"
                                }
                            ]
                        },
                        "text/html": "<table><tr><th>customer_id</th><th>total_rental_count</th></tr><tr><td>1</td><td>32</td></tr><tr><td>2</td><td>27</td></tr><tr><td>3</td><td>26</td></tr><tr><td>4</td><td>22</td></tr><tr><td>5</td><td>38</td></tr></table>"
                    },
                    "metadata": {}
                }
            ],
            "execution_count": 5
        },
        {
            "cell_type": "markdown",
            "source": [
                "## 3.3. Average Category Rental Counts"
            ],
            "metadata": {
                "language": "sql",
                "azdata_cell_guid": "e71b695f-22ad-4082-9d20-a1c93f812bb2"
            },
            "attachments": {}
        },
        {
            "cell_type": "code",
            "source": [
                "DROP TABLE IF EXISTS avg_category_rental_counts; \n",
                "CREATE TEMP TABLE avg_category_rental_counts AS \n",
                "SELECT\n",
                "    category_name, \n",
                "    AVG(rental_count) AS avg_rental_count\n",
                "FROM category_rental_counts\n",
                "GROUP BY\n",
                "    category_name; \n",
                "\n",
                "SELECT *\n",
                "FROM avg_category_rental_counts\n",
                "ORDER BY \n",
                "avg_rental_count DESC; \n",
                "\n",
                "-- Ugly decimals! \n",
                "-- You have watched 2.3343 more movies than the customer average for sci-fi (WEIRD)\n",
                "\n",
                ""
            ],
            "metadata": {
                "language": "sql",
                "azdata_cell_guid": "9ec037a3-0ceb-4bdf-a6a1-d985e27e8676"
            },
            "outputs": [
                {
                    "output_type": "display_data",
                    "data": {
                        "text/html": "NOTICE:  table \"avg_category_rental_counts\" does not exist, skipping\n"
                    },
                    "metadata": {}
                },
                {
                    "output_type": "display_data",
                    "data": {
                        "text/html": "Commands completed successfully"
                    },
                    "metadata": {}
                },
                {
                    "output_type": "display_data",
                    "data": {
                        "text/html": "Commands completed successfully"
                    },
                    "metadata": {}
                },
                {
                    "output_type": "display_data",
                    "data": {
                        "text/html": "(16 row(s) affected)"
                    },
                    "metadata": {}
                },
                {
                    "output_type": "display_data",
                    "data": {
                        "text/html": "Total execution time: 00:00:00.018"
                    },
                    "metadata": {}
                },
                {
                    "output_type": "execute_result",
                    "execution_count": 6,
                    "data": {
                        "application/vnd.dataresource+json": {
                            "schema": {
                                "fields": [
                                    {
                                        "name": "category_name"
                                    },
                                    {
                                        "name": "avg_rental_count"
                                    }
                                ]
                            },
                            "data": [
                                {
                                    "0": "Animation",
                                    "1": "2.3320000000000000"
                                },
                                {
                                    "0": "Sports",
                                    "1": "2.2716763005780347"
                                },
                                {
                                    "0": "Family",
                                    "1": "2.1876247504990020"
                                },
                                {
                                    "0": "Action",
                                    "1": "2.1803921568627451"
                                },
                                {
                                    "0": "Documentary",
                                    "1": "2.1739130434782609"
                                },
                                {
                                    "0": "Sci-Fi",
                                    "1": "2.1715976331360947"
                                },
                                {
                                    "0": "Drama",
                                    "1": "2.1157684630738523"
                                },
                                {
                                    "0": "Foreign",
                                    "1": "2.0953346855983773"
                                },
                                {
                                    "0": "Games",
                                    "1": "2.0443037974683544"
                                },
                                {
                                    "0": "New",
                                    "1": "2.0085470085470085"
                                },
                                {
                                    "0": "Classics",
                                    "1": "2.0064102564102564"
                                },
                                {
                                    "0": "Children",
                                    "1": "1.9605809128630705"
                                },
                                {
                                    "0": "Comedy",
                                    "1": "1.9010101010101010"
                                },
                                {
                                    "0": "Travel",
                                    "1": "1.8936651583710407"
                                },
                                {
                                    "0": "Horror",
                                    "1": "1.8758314855875831"
                                },
                                {
                                    "0": "Music",
                                    "1": "1.8568232662192394"
                                }
                            ]
                        },
                        "text/html": "<table><tr><th>category_name</th><th>avg_rental_count</th></tr><tr><td>Animation</td><td>2.3320000000000000</td></tr><tr><td>Sports</td><td>2.2716763005780347</td></tr><tr><td>Family</td><td>2.1876247504990020</td></tr><tr><td>Action</td><td>2.1803921568627451</td></tr><tr><td>Documentary</td><td>2.1739130434782609</td></tr><tr><td>Sci-Fi</td><td>2.1715976331360947</td></tr><tr><td>Drama</td><td>2.1157684630738523</td></tr><tr><td>Foreign</td><td>2.0953346855983773</td></tr><tr><td>Games</td><td>2.0443037974683544</td></tr><tr><td>New</td><td>2.0085470085470085</td></tr><tr><td>Classics</td><td>2.0064102564102564</td></tr><tr><td>Children</td><td>1.9605809128630705</td></tr><tr><td>Comedy</td><td>1.9010101010101010</td></tr><tr><td>Travel</td><td>1.8936651583710407</td></tr><tr><td>Horror</td><td>1.8758314855875831</td></tr><tr><td>Music</td><td>1.8568232662192394</td></tr></table>"
                    },
                    "metadata": {}
                }
            ],
            "execution_count": 6
        },
        {
            "cell_type": "markdown",
            "source": [
                "## 3.4. Update Table Values"
            ],
            "metadata": {
                "language": "sql",
                "azdata_cell_guid": "348aef6e-5055-4099-9c86-6168783954db"
            },
            "attachments": {}
        },
        {
            "cell_type": "code",
            "source": [
                "-- first create a copy of average_category_rental_counts\n",
                "DROP TABLE IF EXISTS testing_avg_category_rental_count; \n",
                "CREATE TEMP TABLE testing_avg_category_rental_count AS\n",
                "    TABLE avg_category_rental_counts; \n",
                "\n",
                "-- now update all the things!\n",
                "UPDATE testing_avg_category_rental_count\n",
                "SET \n",
                "    avg_rental_count = avg_rental_count + 10,\n",
                "    category_name = category_name || ' Category'\n",
                "WHERE \n",
                " -- first character of category_name is 'C'\n",
                "    LEFT(category_name, 1) = 'C'\n",
                "-- show all updated rows as the query output\n",
                "RETURNING *; "
            ],
            "metadata": {
                "language": "sql",
                "azdata_cell_guid": "aa1f584f-66f8-4239-ac7a-d958da3707b4"
            },
            "outputs": [
                {
                    "output_type": "display_data",
                    "data": {
                        "text/html": "Commands completed successfully"
                    },
                    "metadata": {}
                },
                {
                    "output_type": "display_data",
                    "data": {
                        "text/html": "Commands completed successfully"
                    },
                    "metadata": {}
                },
                {
                    "output_type": "display_data",
                    "data": {
                        "text/html": "(3 row(s) affected)"
                    },
                    "metadata": {}
                },
                {
                    "output_type": "display_data",
                    "data": {
                        "text/html": "Total execution time: 00:00:00.038"
                    },
                    "metadata": {}
                },
                {
                    "output_type": "execute_result",
                    "execution_count": 11,
                    "data": {
                        "application/vnd.dataresource+json": {
                            "schema": {
                                "fields": [
                                    {
                                        "name": "category_name"
                                    },
                                    {
                                        "name": "avg_rental_count"
                                    }
                                ]
                            },
                            "data": [
                                {
                                    "0": "Classics Category",
                                    "1": "12.0064102564102564"
                                },
                                {
                                    "0": "Comedy Category",
                                    "1": "11.9010101010101010"
                                },
                                {
                                    "0": "Children Category",
                                    "1": "11.9605809128630705"
                                }
                            ]
                        },
                        "text/html": "<table><tr><th>category_name</th><th>avg_rental_count</th></tr><tr><td>Classics Category</td><td>12.0064102564102564</td></tr><tr><td>Comedy Category</td><td>11.9010101010101010</td></tr><tr><td>Children Category</td><td>11.9605809128630705</td></tr></table>"
                    },
                    "metadata": {}
                }
            ],
            "execution_count": 11
        },
        {
            "cell_type": "code",
            "source": [
                "-- Inspecting change:GROUP BY\n",
                "SELECT *\n",
                "FROM testing_avg_category_rental_count\n",
                "ORDER BY category_name;\n",
                "\n",
                "-- changes verified "
            ],
            "metadata": {
                "language": "sql",
                "azdata_cell_guid": "ae30297b-e723-4fe2-bb14-53494affedec"
            },
            "outputs": [
                {
                    "output_type": "display_data",
                    "data": {
                        "text/html": "(16 row(s) affected)"
                    },
                    "metadata": {}
                },
                {
                    "output_type": "display_data",
                    "data": {
                        "text/html": "Total execution time: 00:00:00.125"
                    },
                    "metadata": {}
                },
                {
                    "output_type": "execute_result",
                    "execution_count": 12,
                    "data": {
                        "application/vnd.dataresource+json": {
                            "schema": {
                                "fields": [
                                    {
                                        "name": "category_name"
                                    },
                                    {
                                        "name": "avg_rental_count"
                                    }
                                ]
                            },
                            "data": [
                                {
                                    "0": "Action",
                                    "1": "2.1803921568627451"
                                },
                                {
                                    "0": "Animation",
                                    "1": "2.3320000000000000"
                                },
                                {
                                    "0": "Children Category",
                                    "1": "11.9605809128630705"
                                },
                                {
                                    "0": "Classics Category",
                                    "1": "12.0064102564102564"
                                },
                                {
                                    "0": "Comedy Category",
                                    "1": "11.9010101010101010"
                                },
                                {
                                    "0": "Documentary",
                                    "1": "2.1739130434782609"
                                },
                                {
                                    "0": "Drama",
                                    "1": "2.1157684630738523"
                                },
                                {
                                    "0": "Family",
                                    "1": "2.1876247504990020"
                                },
                                {
                                    "0": "Foreign",
                                    "1": "2.0953346855983773"
                                },
                                {
                                    "0": "Games",
                                    "1": "2.0443037974683544"
                                },
                                {
                                    "0": "Horror",
                                    "1": "1.8758314855875831"
                                },
                                {
                                    "0": "Music",
                                    "1": "1.8568232662192394"
                                },
                                {
                                    "0": "New",
                                    "1": "2.0085470085470085"
                                },
                                {
                                    "0": "Sci-Fi",
                                    "1": "2.1715976331360947"
                                },
                                {
                                    "0": "Sports",
                                    "1": "2.2716763005780347"
                                },
                                {
                                    "0": "Travel",
                                    "1": "1.8936651583710407"
                                }
                            ]
                        },
                        "text/html": "<table><tr><th>category_name</th><th>avg_rental_count</th></tr><tr><td>Action</td><td>2.1803921568627451</td></tr><tr><td>Animation</td><td>2.3320000000000000</td></tr><tr><td>Children Category</td><td>11.9605809128630705</td></tr><tr><td>Classics Category</td><td>12.0064102564102564</td></tr><tr><td>Comedy Category</td><td>11.9010101010101010</td></tr><tr><td>Documentary</td><td>2.1739130434782609</td></tr><tr><td>Drama</td><td>2.1157684630738523</td></tr><tr><td>Family</td><td>2.1876247504990020</td></tr><tr><td>Foreign</td><td>2.0953346855983773</td></tr><tr><td>Games</td><td>2.0443037974683544</td></tr><tr><td>Horror</td><td>1.8758314855875831</td></tr><tr><td>Music</td><td>1.8568232662192394</td></tr><tr><td>New</td><td>2.0085470085470085</td></tr><tr><td>Sci-Fi</td><td>2.1715976331360947</td></tr><tr><td>Sports</td><td>2.2716763005780347</td></tr><tr><td>Travel</td><td>1.8936651583710407</td></tr></table>"
                    },
                    "metadata": {}
                }
            ],
            "execution_count": 12
        },
        {
            "cell_type": "code",
            "source": [
                "-- Updating acutal table: avg_category_rental_counts\n",
                "-- Using FLOOR() to update: An executive decision\n",
                "UPDATE avg_category_rental_counts\n",
                "SET avg_rental_count = FLOOR(avg_rental_count)\n",
                "RETURNING *; \n",
                ""
            ],
            "metadata": {
                "language": "sql",
                "azdata_cell_guid": "61440039-63a6-4fda-abd5-1c0844c6c2d2"
            },
            "outputs": [
                {
                    "output_type": "display_data",
                    "data": {
                        "text/html": "(16 row(s) affected)"
                    },
                    "metadata": {}
                },
                {
                    "output_type": "display_data",
                    "data": {
                        "text/html": "Total execution time: 00:00:00.006"
                    },
                    "metadata": {}
                },
                {
                    "output_type": "execute_result",
                    "execution_count": 7,
                    "data": {
                        "application/vnd.dataresource+json": {
                            "schema": {
                                "fields": [
                                    {
                                        "name": "category_name"
                                    },
                                    {
                                        "name": "avg_rental_count"
                                    }
                                ]
                            },
                            "data": [
                                {
                                    "0": "Sports",
                                    "1": "2"
                                },
                                {
                                    "0": "Classics",
                                    "1": "2"
                                },
                                {
                                    "0": "New",
                                    "1": "2"
                                },
                                {
                                    "0": "Family",
                                    "1": "2"
                                },
                                {
                                    "0": "Comedy",
                                    "1": "1"
                                },
                                {
                                    "0": "Animation",
                                    "1": "2"
                                },
                                {
                                    "0": "Travel",
                                    "1": "1"
                                },
                                {
                                    "0": "Music",
                                    "1": "1"
                                },
                                {
                                    "0": "Horror",
                                    "1": "1"
                                },
                                {
                                    "0": "Drama",
                                    "1": "2"
                                },
                                {
                                    "0": "Sci-Fi",
                                    "1": "2"
                                },
                                {
                                    "0": "Games",
                                    "1": "2"
                                },
                                {
                                    "0": "Documentary",
                                    "1": "2"
                                },
                                {
                                    "0": "Foreign",
                                    "1": "2"
                                },
                                {
                                    "0": "Action",
                                    "1": "2"
                                },
                                {
                                    "0": "Children",
                                    "1": "1"
                                }
                            ]
                        },
                        "text/html": "<table><tr><th>category_name</th><th>avg_rental_count</th></tr><tr><td>Sports</td><td>2</td></tr><tr><td>Classics</td><td>2</td></tr><tr><td>New</td><td>2</td></tr><tr><td>Family</td><td>2</td></tr><tr><td>Comedy</td><td>1</td></tr><tr><td>Animation</td><td>2</td></tr><tr><td>Travel</td><td>1</td></tr><tr><td>Music</td><td>1</td></tr><tr><td>Horror</td><td>1</td></tr><tr><td>Drama</td><td>2</td></tr><tr><td>Sci-Fi</td><td>2</td></tr><tr><td>Games</td><td>2</td></tr><tr><td>Documentary</td><td>2</td></tr><tr><td>Foreign</td><td>2</td></tr><tr><td>Action</td><td>2</td></tr><tr><td>Children</td><td>1</td></tr></table>"
                    },
                    "metadata": {}
                }
            ],
            "execution_count": 7
        },
        {
            "cell_type": "code",
            "source": [
                "-- Inspecting changes made to avg_category_rental_counts\n",
                "SELECT * \n",
                "FROM avg_category_rental_counts\n",
                "ORDER BY \n",
                "    category_name; \n",
                "\n",
                "-- changes verified "
            ],
            "metadata": {
                "language": "sql",
                "azdata_cell_guid": "57b3ba61-63bc-4df7-8047-95e0441a2644",
                "tags": []
            },
            "outputs": [
                {
                    "output_type": "display_data",
                    "data": {
                        "text/html": "(16 row(s) affected)"
                    },
                    "metadata": {}
                },
                {
                    "output_type": "display_data",
                    "data": {
                        "text/html": "Total execution time: 00:00:00.018"
                    },
                    "metadata": {}
                },
                {
                    "output_type": "execute_result",
                    "execution_count": 14,
                    "data": {
                        "application/vnd.dataresource+json": {
                            "schema": {
                                "fields": [
                                    {
                                        "name": "category_name"
                                    },
                                    {
                                        "name": "avg_rental_count"
                                    }
                                ]
                            },
                            "data": [
                                {
                                    "0": "Action",
                                    "1": "2"
                                },
                                {
                                    "0": "Animation",
                                    "1": "2"
                                },
                                {
                                    "0": "Children",
                                    "1": "1"
                                },
                                {
                                    "0": "Classics",
                                    "1": "2"
                                },
                                {
                                    "0": "Comedy",
                                    "1": "1"
                                },
                                {
                                    "0": "Documentary",
                                    "1": "2"
                                },
                                {
                                    "0": "Drama",
                                    "1": "2"
                                },
                                {
                                    "0": "Family",
                                    "1": "2"
                                },
                                {
                                    "0": "Foreign",
                                    "1": "2"
                                },
                                {
                                    "0": "Games",
                                    "1": "2"
                                },
                                {
                                    "0": "Horror",
                                    "1": "1"
                                },
                                {
                                    "0": "Music",
                                    "1": "1"
                                },
                                {
                                    "0": "New",
                                    "1": "2"
                                },
                                {
                                    "0": "Sci-Fi",
                                    "1": "2"
                                },
                                {
                                    "0": "Sports",
                                    "1": "2"
                                },
                                {
                                    "0": "Travel",
                                    "1": "1"
                                }
                            ]
                        },
                        "text/html": "<table><tr><th>category_name</th><th>avg_rental_count</th></tr><tr><td>Action</td><td>2</td></tr><tr><td>Animation</td><td>2</td></tr><tr><td>Children</td><td>1</td></tr><tr><td>Classics</td><td>2</td></tr><tr><td>Comedy</td><td>1</td></tr><tr><td>Documentary</td><td>2</td></tr><tr><td>Drama</td><td>2</td></tr><tr><td>Family</td><td>2</td></tr><tr><td>Foreign</td><td>2</td></tr><tr><td>Games</td><td>2</td></tr><tr><td>Horror</td><td>1</td></tr><tr><td>Music</td><td>1</td></tr><tr><td>New</td><td>2</td></tr><tr><td>Sci-Fi</td><td>2</td></tr><tr><td>Sports</td><td>2</td></tr><tr><td>Travel</td><td>1</td></tr></table>"
                    },
                    "metadata": {}
                }
            ],
            "execution_count": 14
        },
        {
            "cell_type": "markdown",
            "source": [
                "## 3.5. Percentile Values"
            ],
            "metadata": {
                "language": "sql",
                "azdata_cell_guid": "38d9f3b3-e770-4b6b-9a01-c5fc1a17cc3c"
            },
            "attachments": {}
        },
        {
            "cell_type": "code",
            "source": [
                "SELECT\n",
                "  customer_id,\n",
                "  category_name,\n",
                "  rental_count,\n",
                "  PERCENT_RANK() OVER (\n",
                "    PARTITION BY category_name\n",
                "    ORDER BY rental_count DESC\n",
                "  ) AS percentile\n",
                "FROM category_rental_counts\n",
                "ORDER BY customer_id, rental_count DESC\n",
                "LIMIT 14;"
            ],
            "metadata": {
                "language": "sql",
                "azdata_cell_guid": "3e6c098a-4f76-4485-8f53-7e78274c619c"
            },
            "outputs": [
                {
                    "output_type": "display_data",
                    "data": {
                        "text/html": "(14 row(s) affected)"
                    },
                    "metadata": {}
                },
                {
                    "output_type": "display_data",
                    "data": {
                        "text/html": "Total execution time: 00:00:00.035"
                    },
                    "metadata": {}
                },
                {
                    "output_type": "execute_result",
                    "execution_count": 18,
                    "data": {
                        "application/vnd.dataresource+json": {
                            "schema": {
                                "fields": [
                                    {
                                        "name": "customer_id"
                                    },
                                    {
                                        "name": "category_name"
                                    },
                                    {
                                        "name": "rental_count"
                                    },
                                    {
                                        "name": "percentile"
                                    }
                                ]
                            },
                            "data": [
                                {
                                    "0": "1",
                                    "1": "Classics",
                                    "2": "6",
                                    "3": "0.0021413276231263384"
                                },
                                {
                                    "0": "1",
                                    "1": "Comedy",
                                    "2": "5",
                                    "3": "0.006072874493927126"
                                },
                                {
                                    "0": "1",
                                    "1": "Drama",
                                    "2": "4",
                                    "3": "0.03"
                                },
                                {
                                    "0": "1",
                                    "1": "Animation",
                                    "2": "2",
                                    "3": "0.38877755511022044"
                                },
                                {
                                    "0": "1",
                                    "1": "New",
                                    "2": "2",
                                    "3": "0.2676659528907923"
                                },
                                {
                                    "0": "1",
                                    "1": "Action",
                                    "2": "2",
                                    "3": "0.33398821218074654"
                                },
                                {
                                    "0": "1",
                                    "1": "Music",
                                    "2": "2",
                                    "3": "0.2040358744394619"
                                },
                                {
                                    "0": "1",
                                    "1": "Sports",
                                    "2": "2",
                                    "3": "0.34555984555984554"
                                },
                                {
                                    "0": "1",
                                    "1": "Sci-Fi",
                                    "2": "2",
                                    "3": "0.30039525691699603"
                                },
                                {
                                    "0": "1",
                                    "1": "Documentary",
                                    "2": "1",
                                    "3": "0.6431535269709544"
                                },
                                {
                                    "0": "1",
                                    "1": "Games",
                                    "2": "1",
                                    "3": "0.6004228329809725"
                                },
                                {
                                    "0": "1",
                                    "1": "Foreign",
                                    "2": "1",
                                    "3": "0.6178861788617886"
                                },
                                {
                                    "0": "1",
                                    "1": "Family",
                                    "2": "1",
                                    "3": "0.654"
                                },
                                {
                                    "0": "1",
                                    "1": "Travel",
                                    "2": "1",
                                    "3": "0.5759637188208617"
                                }
                            ]
                        },
                        "text/html": "<table><tr><th>customer_id</th><th>category_name</th><th>rental_count</th><th>percentile</th></tr><tr><td>1</td><td>Classics</td><td>6</td><td>0.0021413276231263384</td></tr><tr><td>1</td><td>Comedy</td><td>5</td><td>0.006072874493927126</td></tr><tr><td>1</td><td>Drama</td><td>4</td><td>0.03</td></tr><tr><td>1</td><td>Animation</td><td>2</td><td>0.38877755511022044</td></tr><tr><td>1</td><td>New</td><td>2</td><td>0.2676659528907923</td></tr><tr><td>1</td><td>Action</td><td>2</td><td>0.33398821218074654</td></tr><tr><td>1</td><td>Music</td><td>2</td><td>0.2040358744394619</td></tr><tr><td>1</td><td>Sports</td><td>2</td><td>0.34555984555984554</td></tr><tr><td>1</td><td>Sci-Fi</td><td>2</td><td>0.30039525691699603</td></tr><tr><td>1</td><td>Documentary</td><td>1</td><td>0.6431535269709544</td></tr><tr><td>1</td><td>Games</td><td>1</td><td>0.6004228329809725</td></tr><tr><td>1</td><td>Foreign</td><td>1</td><td>0.6178861788617886</td></tr><tr><td>1</td><td>Family</td><td>1</td><td>0.654</td></tr><tr><td>1</td><td>Travel</td><td>1</td><td>0.5759637188208617</td></tr></table>"
                    },
                    "metadata": {}
                }
            ],
            "execution_count": 18
        },
        {
            "cell_type": "code",
            "source": [
                "SELECT\n",
                "  customer_id,\n",
                "  category_name,\n",
                "  rental_count,\n",
                "  -- use ceiling to round up to nearest integer after multiplying by 100\n",
                "  CEILING(\n",
                "    100 * PERCENT_RANK() OVER (\n",
                "      PARTITION BY category_name\n",
                "      ORDER BY rental_count DESC\n",
                "    )\n",
                "  ) AS percentile\n",
                "FROM category_rental_counts\n",
                "ORDER BY customer_id, rental_count DESC\n",
                "LIMIT 2;\n",
                "\n",
                "/*You’ve watched 6 Classics films, that’s 4 more than the DVD Rental Co \n",
                "average and puts you in the top 1% of Classics gurus!*/"
            ],
            "metadata": {
                "language": "sql",
                "azdata_cell_guid": "1daf9bf4-a75e-4000-9a66-18dd36700d42",
                "tags": []
            },
            "outputs": [
                {
                    "output_type": "display_data",
                    "data": {
                        "text/html": "(2 row(s) affected)"
                    },
                    "metadata": {}
                },
                {
                    "output_type": "display_data",
                    "data": {
                        "text/html": "Total execution time: 00:00:00.064"
                    },
                    "metadata": {}
                },
                {
                    "output_type": "execute_result",
                    "execution_count": 15,
                    "data": {
                        "application/vnd.dataresource+json": {
                            "schema": {
                                "fields": [
                                    {
                                        "name": "customer_id"
                                    },
                                    {
                                        "name": "category_name"
                                    },
                                    {
                                        "name": "rental_count"
                                    },
                                    {
                                        "name": "percentile"
                                    }
                                ]
                            },
                            "data": [
                                {
                                    "0": "1",
                                    "1": "Classics",
                                    "2": "6",
                                    "3": "1.0"
                                },
                                {
                                    "0": "1",
                                    "1": "Comedy",
                                    "2": "5",
                                    "3": "1.0"
                                }
                            ]
                        },
                        "text/html": "<table><tr><th>customer_id</th><th>category_name</th><th>rental_count</th><th>percentile</th></tr><tr><td>1</td><td>Classics</td><td>6</td><td>1.0</td></tr><tr><td>1</td><td>Comedy</td><td>5</td><td>1.0</td></tr></table>"
                    },
                    "metadata": {}
                }
            ],
            "execution_count": 15
        },
        {
            "cell_type": "code",
            "source": [
                "-- Creating TEMP TABLE\n",
                "DROP TABLE IF EXISTS customer_category_percentiles; \n",
                "CREATE TEMP TABLE customer_category_percentiles AS \n",
                "SELECT\n",
                "  customer_id,\n",
                "  category_name,\n",
                "  rental_count,\n",
                "  -- use ceiling to round up to nearest integer after multiplying by 100\n",
                "  CEILING(\n",
                "    100 * PERCENT_RANK() OVER (\n",
                "      PARTITION BY category_name\n",
                "      ORDER BY rental_count DESC\n",
                "    )\n",
                "  ) AS percentile\n",
                "FROM category_rental_counts; \n",
                "\n",
                "SELECT * \n",
                "FROM customer_category_percentiles\n",
                "WHERE customer_id = 1\n",
                "ORDER BY customer_id, percentile \n",
                "Limit 2 "
            ],
            "metadata": {
                "language": "sql",
                "azdata_cell_guid": "d9b2352e-3059-4bb7-a5fc-1dbdc9f09642"
            },
            "outputs": [
                {
                    "output_type": "display_data",
                    "data": {
                        "text/html": "NOTICE:  table \"customer_category_percentiles\" does not exist, skipping\n"
                    },
                    "metadata": {}
                },
                {
                    "output_type": "display_data",
                    "data": {
                        "text/html": "Commands completed successfully"
                    },
                    "metadata": {}
                },
                {
                    "output_type": "display_data",
                    "data": {
                        "text/html": "Commands completed successfully"
                    },
                    "metadata": {}
                },
                {
                    "output_type": "display_data",
                    "data": {
                        "text/html": "(2 row(s) affected)"
                    },
                    "metadata": {}
                },
                {
                    "output_type": "display_data",
                    "data": {
                        "text/html": "Total execution time: 00:00:00.047"
                    },
                    "metadata": {}
                },
                {
                    "output_type": "execute_result",
                    "execution_count": 8,
                    "data": {
                        "application/vnd.dataresource+json": {
                            "schema": {
                                "fields": [
                                    {
                                        "name": "customer_id"
                                    },
                                    {
                                        "name": "category_name"
                                    },
                                    {
                                        "name": "rental_count"
                                    },
                                    {
                                        "name": "percentile"
                                    }
                                ]
                            },
                            "data": [
                                {
                                    "0": "1",
                                    "1": "Classics",
                                    "2": "6",
                                    "3": "1.0"
                                },
                                {
                                    "0": "1",
                                    "1": "Comedy",
                                    "2": "5",
                                    "3": "1.0"
                                }
                            ]
                        },
                        "text/html": "<table><tr><th>customer_id</th><th>category_name</th><th>rental_count</th><th>percentile</th></tr><tr><td>1</td><td>Classics</td><td>6</td><td>1.0</td></tr><tr><td>1</td><td>Comedy</td><td>5</td><td>1.0</td></tr></table>"
                    },
                    "metadata": {}
                }
            ],
            "execution_count": 8
        },
        {
            "cell_type": "markdown",
            "source": [
                "# 4\\. Using Our Temporary Tables"
            ],
            "metadata": {
                "language": "sql",
                "azdata_cell_guid": "7f044ab3-f9b1-41a2-9a50-dbd49ddab4ae"
            },
            "attachments": {}
        },
        {
            "cell_type": "markdown",
            "source": [
                "## 4.1. Joining Temporary Tables"
            ],
            "metadata": {
                "language": "sql",
                "azdata_cell_guid": "d3b3af55-4035-4476-90e6-4bc72c429dfa"
            },
            "attachments": {}
        },
        {
            "cell_type": "code",
            "source": [
                "DROP TABLE IF EXISTS customer_category_joint_table; \n",
                "CREATE TEMP TABLE customer_category_joint_table AS \n",
                "SELECT \n",
                "    t1.customer_id,\n",
                "    t1.category_name, \n",
                "    t1.rental_count,\n",
                "    t2.total_rental_count, \n",
                "    t3.avg_rental_count,\n",
                "    t4.percentile\n",
                "FROM category_rental_counts AS t1\n",
                "INNER JOIN total_customer_rentals AS t2\n",
                "    ON t1.customer_id = t2.customer_id \n",
                "INNER JOIN avg_category_rental_counts AS t3\n",
                "    ON t1.category_name = t3.category_name \n",
                "INNER JOIN customer_category_percentiles AS t4\n",
                "    ON t1.category_name = t4.category_name \n",
                "    AND t1.customer_id = t4.customer_id; \n",
                "\n",
                "\n",
                "-- inspect customer_id = 1 rows sorted by percentile\n",
                "SELECT *\n",
                "FROM customer_category_joint_table\n",
                "WHERE customer_id = 1\n",
                "ORDER BY percentile;\n",
                ""
            ],
            "metadata": {
                "language": "sql",
                "azdata_cell_guid": "428d7abe-50c5-4a48-bc3e-88a8787faa3a"
            },
            "outputs": [
                {
                    "output_type": "display_data",
                    "data": {
                        "text/html": "NOTICE:  table \"customer_category_joint_table\" does not exist, skipping\n"
                    },
                    "metadata": {}
                },
                {
                    "output_type": "display_data",
                    "data": {
                        "text/html": "Commands completed successfully"
                    },
                    "metadata": {}
                },
                {
                    "output_type": "display_data",
                    "data": {
                        "text/html": "Commands completed successfully"
                    },
                    "metadata": {}
                },
                {
                    "output_type": "display_data",
                    "data": {
                        "text/html": "(14 row(s) affected)"
                    },
                    "metadata": {}
                },
                {
                    "output_type": "display_data",
                    "data": {
                        "text/html": "Total execution time: 00:00:00.082"
                    },
                    "metadata": {}
                },
                {
                    "output_type": "execute_result",
                    "execution_count": 9,
                    "data": {
                        "application/vnd.dataresource+json": {
                            "schema": {
                                "fields": [
                                    {
                                        "name": "customer_id"
                                    },
                                    {
                                        "name": "category_name"
                                    },
                                    {
                                        "name": "rental_count"
                                    },
                                    {
                                        "name": "total_rental_count"
                                    },
                                    {
                                        "name": "avg_rental_count"
                                    },
                                    {
                                        "name": "percentile"
                                    }
                                ]
                            },
                            "data": [
                                {
                                    "0": "1",
                                    "1": "Classics",
                                    "2": "6",
                                    "3": "32",
                                    "4": "2",
                                    "5": "1.0"
                                },
                                {
                                    "0": "1",
                                    "1": "Comedy",
                                    "2": "5",
                                    "3": "32",
                                    "4": "1",
                                    "5": "1.0"
                                },
                                {
                                    "0": "1",
                                    "1": "Drama",
                                    "2": "4",
                                    "3": "32",
                                    "4": "2",
                                    "5": "3.0"
                                },
                                {
                                    "0": "1",
                                    "1": "Music",
                                    "2": "2",
                                    "3": "32",
                                    "4": "1",
                                    "5": "21.0"
                                },
                                {
                                    "0": "1",
                                    "1": "New",
                                    "2": "2",
                                    "3": "32",
                                    "4": "2",
                                    "5": "27.0"
                                },
                                {
                                    "0": "1",
                                    "1": "Sci-Fi",
                                    "2": "2",
                                    "3": "32",
                                    "4": "2",
                                    "5": "31.0"
                                },
                                {
                                    "0": "1",
                                    "1": "Action",
                                    "2": "2",
                                    "3": "32",
                                    "4": "2",
                                    "5": "34.0"
                                },
                                {
                                    "0": "1",
                                    "1": "Sports",
                                    "2": "2",
                                    "3": "32",
                                    "4": "2",
                                    "5": "35.0"
                                },
                                {
                                    "0": "1",
                                    "1": "Animation",
                                    "2": "2",
                                    "3": "32",
                                    "4": "2",
                                    "5": "39.0"
                                },
                                {
                                    "0": "1",
                                    "1": "Travel",
                                    "2": "1",
                                    "3": "32",
                                    "4": "1",
                                    "5": "58.0"
                                },
                                {
                                    "0": "1",
                                    "1": "Games",
                                    "2": "1",
                                    "3": "32",
                                    "4": "2",
                                    "5": "61.0"
                                },
                                {
                                    "0": "1",
                                    "1": "Foreign",
                                    "2": "1",
                                    "3": "32",
                                    "4": "2",
                                    "5": "62.0"
                                },
                                {
                                    "0": "1",
                                    "1": "Documentary",
                                    "2": "1",
                                    "3": "32",
                                    "4": "2",
                                    "5": "65.0"
                                },
                                {
                                    "0": "1",
                                    "1": "Family",
                                    "2": "1",
                                    "3": "32",
                                    "4": "2",
                                    "5": "66.0"
                                }
                            ]
                        },
                        "text/html": "<table><tr><th>customer_id</th><th>category_name</th><th>rental_count</th><th>total_rental_count</th><th>avg_rental_count</th><th>percentile</th></tr><tr><td>1</td><td>Classics</td><td>6</td><td>32</td><td>2</td><td>1.0</td></tr><tr><td>1</td><td>Comedy</td><td>5</td><td>32</td><td>1</td><td>1.0</td></tr><tr><td>1</td><td>Drama</td><td>4</td><td>32</td><td>2</td><td>3.0</td></tr><tr><td>1</td><td>Music</td><td>2</td><td>32</td><td>1</td><td>21.0</td></tr><tr><td>1</td><td>New</td><td>2</td><td>32</td><td>2</td><td>27.0</td></tr><tr><td>1</td><td>Sci-Fi</td><td>2</td><td>32</td><td>2</td><td>31.0</td></tr><tr><td>1</td><td>Action</td><td>2</td><td>32</td><td>2</td><td>34.0</td></tr><tr><td>1</td><td>Sports</td><td>2</td><td>32</td><td>2</td><td>35.0</td></tr><tr><td>1</td><td>Animation</td><td>2</td><td>32</td><td>2</td><td>39.0</td></tr><tr><td>1</td><td>Travel</td><td>1</td><td>32</td><td>1</td><td>58.0</td></tr><tr><td>1</td><td>Games</td><td>1</td><td>32</td><td>2</td><td>61.0</td></tr><tr><td>1</td><td>Foreign</td><td>1</td><td>32</td><td>2</td><td>62.0</td></tr><tr><td>1</td><td>Documentary</td><td>1</td><td>32</td><td>2</td><td>65.0</td></tr><tr><td>1</td><td>Family</td><td>1</td><td>32</td><td>2</td><td>66.0</td></tr></table>"
                    },
                    "metadata": {}
                }
            ],
            "execution_count": 9
        },
        {
            "cell_type": "markdown",
            "source": [
                "## 4.2. Adding in Calculated Fields"
            ],
            "metadata": {
                "language": "sql",
                "azdata_cell_guid": "292661d6-c298-4c92-8d90-c1c3982a8543"
            },
            "attachments": {}
        },
        {
            "cell_type": "code",
            "source": [
                "DROP TABLE IF EXISTS customer_category_joint_table; \n",
                "CREATE TEMP TABLE customer_category_joint_table AS \n",
                "SELECT \n",
                "    t1.customer_id,\n",
                "    t1.category_name, \n",
                "    t1.rental_count,\n",
                "    t1.latest_rental_date,\n",
                "    t2.total_rental_count, \n",
                "    t3.avg_rental_count,\n",
                "    t4.percentile,\n",
                "    t1.rental_count - t3.avg_rental_count AS average_comparison,\n",
                "    -- round to nearest integer for percentage after multiplying by 100\n",
                "    ROUND(100 * t1.rental_count / t2.total_rental_count) AS category_percentage \n",
                "    -- integer floor division avoided since total_rental_count is 'numeric' \n",
                "FROM category_rental_counts AS t1\n",
                "INNER JOIN total_customer_rentals AS t2\n",
                "    ON t1.customer_id = t2.customer_id \n",
                "INNER JOIN avg_category_rental_counts AS t3\n",
                "    ON t1.category_name = t3.category_name \n",
                "INNER JOIN customer_category_percentiles AS t4\n",
                "    ON t1.category_name = t4.category_name \n",
                "    AND t1.customer_id = t4.customer_id; \n",
                "\n",
                "\n",
                "-- inspect customer_id = 1 rows sorted by percentile\n",
                "SELECT *\n",
                "FROM customer_category_joint_table\n",
                "WHERE customer_id = 1\n",
                "ORDER BY percentile;\n",
                ""
            ],
            "metadata": {
                "language": "sql",
                "azdata_cell_guid": "c6979305-8364-4733-b2c2-00696fa950c8"
            },
            "outputs": [
                {
                    "output_type": "display_data",
                    "data": {
                        "text/html": "Commands completed successfully"
                    },
                    "metadata": {}
                },
                {
                    "output_type": "display_data",
                    "data": {
                        "text/html": "Commands completed successfully"
                    },
                    "metadata": {}
                },
                {
                    "output_type": "display_data",
                    "data": {
                        "text/html": "(14 row(s) affected)"
                    },
                    "metadata": {}
                },
                {
                    "output_type": "display_data",
                    "data": {
                        "text/html": "Total execution time: 00:00:00.084"
                    },
                    "metadata": {}
                },
                {
                    "output_type": "execute_result",
                    "execution_count": 10,
                    "data": {
                        "application/vnd.dataresource+json": {
                            "schema": {
                                "fields": [
                                    {
                                        "name": "customer_id"
                                    },
                                    {
                                        "name": "category_name"
                                    },
                                    {
                                        "name": "rental_count"
                                    },
                                    {
                                        "name": "latest_rental_date"
                                    },
                                    {
                                        "name": "total_rental_count"
                                    },
                                    {
                                        "name": "avg_rental_count"
                                    },
                                    {
                                        "name": "percentile"
                                    },
                                    {
                                        "name": "average_comparison"
                                    },
                                    {
                                        "name": "category_percentage"
                                    }
                                ]
                            },
                            "data": [
                                {
                                    "0": "1",
                                    "1": "Classics",
                                    "2": "6",
                                    "3": "2005-08-19T09:55:16",
                                    "4": "32",
                                    "5": "2",
                                    "6": "1.0",
                                    "7": "4",
                                    "8": "19"
                                },
                                {
                                    "0": "1",
                                    "1": "Comedy",
                                    "2": "5",
                                    "3": "2005-08-22T19:41:37",
                                    "4": "32",
                                    "5": "1",
                                    "6": "1.0",
                                    "7": "4",
                                    "8": "16"
                                },
                                {
                                    "0": "1",
                                    "1": "Drama",
                                    "2": "4",
                                    "3": "2005-08-18T03:57:29",
                                    "4": "32",
                                    "5": "2",
                                    "6": "3.0",
                                    "7": "2",
                                    "8": "13"
                                },
                                {
                                    "0": "1",
                                    "1": "Music",
                                    "2": "2",
                                    "3": "2005-07-09T16:38:01",
                                    "4": "32",
                                    "5": "1",
                                    "6": "21.0",
                                    "7": "1",
                                    "8": "6"
                                },
                                {
                                    "0": "1",
                                    "1": "New",
                                    "2": "2",
                                    "3": "2005-08-19T13:56:54",
                                    "4": "32",
                                    "5": "2",
                                    "6": "27.0",
                                    "7": "0",
                                    "8": "6"
                                },
                                {
                                    "0": "1",
                                    "1": "Sci-Fi",
                                    "2": "2",
                                    "3": "2005-08-21T23:33:57",
                                    "4": "32",
                                    "5": "2",
                                    "6": "31.0",
                                    "7": "0",
                                    "8": "6"
                                },
                                {
                                    "0": "1",
                                    "1": "Action",
                                    "2": "2",
                                    "3": "2005-08-17T12:37:54",
                                    "4": "32",
                                    "5": "2",
                                    "6": "34.0",
                                    "7": "0",
                                    "8": "6"
                                },
                                {
                                    "0": "1",
                                    "1": "Sports",
                                    "2": "2",
                                    "3": "2005-07-08T07:33:56",
                                    "4": "32",
                                    "5": "2",
                                    "6": "35.0",
                                    "7": "0",
                                    "8": "6"
                                },
                                {
                                    "0": "1",
                                    "1": "Animation",
                                    "2": "2",
                                    "3": "2005-08-22T20:03:46",
                                    "4": "32",
                                    "5": "2",
                                    "6": "39.0",
                                    "7": "0",
                                    "8": "6"
                                },
                                {
                                    "0": "1",
                                    "1": "Travel",
                                    "2": "1",
                                    "3": "2005-07-11T10:13:46",
                                    "4": "32",
                                    "5": "1",
                                    "6": "58.0",
                                    "7": "0",
                                    "8": "3"
                                },
                                {
                                    "0": "1",
                                    "1": "Games",
                                    "2": "1",
                                    "3": "2005-07-08T03:17:05",
                                    "4": "32",
                                    "5": "2",
                                    "6": "61.0",
                                    "7": "-1",
                                    "8": "3"
                                },
                                {
                                    "0": "1",
                                    "1": "Foreign",
                                    "2": "1",
                                    "3": "2005-07-28T16:18:23",
                                    "4": "32",
                                    "5": "2",
                                    "6": "62.0",
                                    "7": "-1",
                                    "8": "3"
                                },
                                {
                                    "0": "1",
                                    "1": "Documentary",
                                    "2": "1",
                                    "3": "2005-08-01T08:51:04",
                                    "4": "32",
                                    "5": "2",
                                    "6": "65.0",
                                    "7": "-1",
                                    "8": "3"
                                },
                                {
                                    "0": "1",
                                    "1": "Family",
                                    "2": "1",
                                    "3": "2005-08-02T18:01:38",
                                    "4": "32",
                                    "5": "2",
                                    "6": "66.0",
                                    "7": "-1",
                                    "8": "3"
                                }
                            ]
                        },
                        "text/html": "<table><tr><th>customer_id</th><th>category_name</th><th>rental_count</th><th>latest_rental_date</th><th>total_rental_count</th><th>avg_rental_count</th><th>percentile</th><th>average_comparison</th><th>category_percentage</th></tr><tr><td>1</td><td>Classics</td><td>6</td><td>2005-08-19T09:55:16</td><td>32</td><td>2</td><td>1.0</td><td>4</td><td>19</td></tr><tr><td>1</td><td>Comedy</td><td>5</td><td>2005-08-22T19:41:37</td><td>32</td><td>1</td><td>1.0</td><td>4</td><td>16</td></tr><tr><td>1</td><td>Drama</td><td>4</td><td>2005-08-18T03:57:29</td><td>32</td><td>2</td><td>3.0</td><td>2</td><td>13</td></tr><tr><td>1</td><td>Music</td><td>2</td><td>2005-07-09T16:38:01</td><td>32</td><td>1</td><td>21.0</td><td>1</td><td>6</td></tr><tr><td>1</td><td>New</td><td>2</td><td>2005-08-19T13:56:54</td><td>32</td><td>2</td><td>27.0</td><td>0</td><td>6</td></tr><tr><td>1</td><td>Sci-Fi</td><td>2</td><td>2005-08-21T23:33:57</td><td>32</td><td>2</td><td>31.0</td><td>0</td><td>6</td></tr><tr><td>1</td><td>Action</td><td>2</td><td>2005-08-17T12:37:54</td><td>32</td><td>2</td><td>34.0</td><td>0</td><td>6</td></tr><tr><td>1</td><td>Sports</td><td>2</td><td>2005-07-08T07:33:56</td><td>32</td><td>2</td><td>35.0</td><td>0</td><td>6</td></tr><tr><td>1</td><td>Animation</td><td>2</td><td>2005-08-22T20:03:46</td><td>32</td><td>2</td><td>39.0</td><td>0</td><td>6</td></tr><tr><td>1</td><td>Travel</td><td>1</td><td>2005-07-11T10:13:46</td><td>32</td><td>1</td><td>58.0</td><td>0</td><td>3</td></tr><tr><td>1</td><td>Games</td><td>1</td><td>2005-07-08T03:17:05</td><td>32</td><td>2</td><td>61.0</td><td>-1</td><td>3</td></tr><tr><td>1</td><td>Foreign</td><td>1</td><td>2005-07-28T16:18:23</td><td>32</td><td>2</td><td>62.0</td><td>-1</td><td>3</td></tr><tr><td>1</td><td>Documentary</td><td>1</td><td>2005-08-01T08:51:04</td><td>32</td><td>2</td><td>65.0</td><td>-1</td><td>3</td></tr><tr><td>1</td><td>Family</td><td>1</td><td>2005-08-02T18:01:38</td><td>32</td><td>2</td><td>66.0</td><td>-1</td><td>3</td></tr></table>"
                    },
                    "metadata": {}
                }
            ],
            "execution_count": 10
        },
        {
            "cell_type": "markdown",
            "source": [
                "## 4.3. Checking Data Types Using the information\\_schema.columns Table"
            ],
            "metadata": {
                "language": "",
                "azdata_cell_guid": "35b460f5-22ad-4763-b271-c331599b0b59"
            },
            "attachments": {}
        },
        {
            "cell_type": "code",
            "source": [
                "SELECT \n",
                "    table_name, \n",
                "    column_name, \n",
                "    data_type\n",
                "FROM information_schema.columns\n",
                "WHERE table_name in ('category_rental_counts', 'total_customer_rentals')"
            ],
            "metadata": {
                "azdata_cell_guid": "7f2f18cd-fc34-49ef-9e3b-f6e22df63414",
                "language": "sql"
            },
            "outputs": [
                {
                    "output_type": "display_data",
                    "data": {
                        "text/html": "(6 row(s) affected)"
                    },
                    "metadata": {}
                },
                {
                    "output_type": "display_data",
                    "data": {
                        "text/html": "Total execution time: 00:00:00.022"
                    },
                    "metadata": {}
                },
                {
                    "output_type": "execute_result",
                    "execution_count": 11,
                    "data": {
                        "application/vnd.dataresource+json": {
                            "schema": {
                                "fields": [
                                    {
                                        "name": "table_name"
                                    },
                                    {
                                        "name": "column_name"
                                    },
                                    {
                                        "name": "data_type"
                                    }
                                ]
                            },
                            "data": [
                                {
                                    "0": "category_rental_counts",
                                    "1": "customer_id",
                                    "2": "smallint"
                                },
                                {
                                    "0": "category_rental_counts",
                                    "1": "category_name",
                                    "2": "character varying"
                                },
                                {
                                    "0": "category_rental_counts",
                                    "1": "rental_count",
                                    "2": "bigint"
                                },
                                {
                                    "0": "category_rental_counts",
                                    "1": "latest_rental_date",
                                    "2": "timestamp without time zone"
                                },
                                {
                                    "0": "total_customer_rentals",
                                    "1": "customer_id",
                                    "2": "smallint"
                                },
                                {
                                    "0": "total_customer_rentals",
                                    "1": "total_rental_count",
                                    "2": "numeric"
                                }
                            ]
                        },
                        "text/html": "<table><tr><th>table_name</th><th>column_name</th><th>data_type</th></tr><tr><td>category_rental_counts</td><td>customer_id</td><td>smallint</td></tr><tr><td>category_rental_counts</td><td>category_name</td><td>character varying</td></tr><tr><td>category_rental_counts</td><td>rental_count</td><td>bigint</td></tr><tr><td>category_rental_counts</td><td>latest_rental_date</td><td>timestamp without time zone</td></tr><tr><td>total_customer_rentals</td><td>customer_id</td><td>smallint</td></tr><tr><td>total_customer_rentals</td><td>total_rental_count</td><td>numeric</td></tr></table>"
                    },
                    "metadata": {}
                }
            ],
            "execution_count": 11
        },
        {
            "cell_type": "code",
            "source": [
                "SELECT \n",
                "    schema_name, \n",
                "    column_name, \n",
                "    column_name\n",
                "FROM information_schema.columns\n",
                "WHERE column_name LIKE '%rental_count%'"
            ],
            "metadata": {
                "language": "sql",
                "azdata_cell_guid": "4311beec-cea9-4e2b-972b-ba2d447ea86f"
            },
            "outputs": [],
            "execution_count": null
        },
        {
            "cell_type": "markdown",
            "source": [
                "# 5\\. Ordering and Filtering Rows with ROW\\_NUMBER"
            ],
            "metadata": {
                "language": "sql",
                "azdata_cell_guid": "4248c2bc-cfb6-4c72-8f01-d3e24d536eaa"
            },
            "attachments": {}
        },
        {
            "cell_type": "code",
            "source": [
                "DROP TABLE IF EXISTS top_categories_info; \n",
                "CREATE TEMP TABLE top_categories_info AS (\n",
                "\n",
                "WITH ordered_number_category_joint_table AS (\n",
                "    SELECT\n",
                "        customer_id, \n",
                "        ROW_NUMBER() OVER (\n",
                "            PARTITION BY customer_id\n",
                "            ORDER BY rental_count DESC, latest_rental_date DESC\n",
                "        ) AS category_ranking,\n",
                "        category_name, \n",
                "        rental_count, \n",
                "        average_comparison, \n",
                "        percentile, \n",
                "        category_percentage\n",
                "    FROM customer_category_joint_table\n",
                ")\n",
                "-- filter out top 2 rows from the CTE for final output\n",
                "SELECT *\n",
                "FROM ordered_number_category_joint_table\n",
                "WHERE category_ranking <= 2 \n",
                ");\n",
                ""
            ],
            "metadata": {
                "language": "sql",
                "azdata_cell_guid": "552bf32e-4e24-4215-80a2-524d02c444f4"
            },
            "outputs": [
                {
                    "output_type": "display_data",
                    "data": {
                        "text/html": "NOTICE:  table \"top_categories_info\" does not exist, skipping\n"
                    },
                    "metadata": {}
                },
                {
                    "output_type": "display_data",
                    "data": {
                        "text/html": "Commands completed successfully"
                    },
                    "metadata": {}
                },
                {
                    "output_type": "display_data",
                    "data": {
                        "text/html": "Commands completed successfully"
                    },
                    "metadata": {}
                },
                {
                    "output_type": "display_data",
                    "data": {
                        "text/html": "Total execution time: 00:00:00.031"
                    },
                    "metadata": {}
                }
            ],
            "execution_count": 12
        },
        {
            "cell_type": "code",
            "source": [
                "SELECT *\n",
                "FROM top_categories_info\n",
                "WHERE customer_id in (1, 2, 3)\n",
                "ORDER BY customer_id, category_ranking;"
            ],
            "metadata": {
                "language": "sql",
                "azdata_cell_guid": "6353d642-bc3f-49e9-bb17-f116e3d627ae"
            },
            "outputs": [
                {
                    "output_type": "display_data",
                    "data": {
                        "text/html": "(6 row(s) affected)"
                    },
                    "metadata": {}
                },
                {
                    "output_type": "display_data",
                    "data": {
                        "text/html": "Total execution time: 00:00:00.012"
                    },
                    "metadata": {}
                },
                {
                    "output_type": "execute_result",
                    "execution_count": 13,
                    "data": {
                        "application/vnd.dataresource+json": {
                            "schema": {
                                "fields": [
                                    {
                                        "name": "customer_id"
                                    },
                                    {
                                        "name": "category_ranking"
                                    },
                                    {
                                        "name": "category_name"
                                    },
                                    {
                                        "name": "rental_count"
                                    },
                                    {
                                        "name": "average_comparison"
                                    },
                                    {
                                        "name": "percentile"
                                    },
                                    {
                                        "name": "category_percentage"
                                    }
                                ]
                            },
                            "data": [
                                {
                                    "0": "1",
                                    "1": "1",
                                    "2": "Classics",
                                    "3": "6",
                                    "4": "4",
                                    "5": "1.0",
                                    "6": "19"
                                },
                                {
                                    "0": "1",
                                    "1": "2",
                                    "2": "Comedy",
                                    "3": "5",
                                    "4": "4",
                                    "5": "1.0",
                                    "6": "16"
                                },
                                {
                                    "0": "2",
                                    "1": "1",
                                    "2": "Sports",
                                    "3": "5",
                                    "4": "3",
                                    "5": "3.0",
                                    "6": "19"
                                },
                                {
                                    "0": "2",
                                    "1": "2",
                                    "2": "Classics",
                                    "3": "4",
                                    "4": "2",
                                    "5": "2.0",
                                    "6": "15"
                                },
                                {
                                    "0": "3",
                                    "1": "1",
                                    "2": "Action",
                                    "3": "4",
                                    "4": "2",
                                    "5": "5.0",
                                    "6": "15"
                                },
                                {
                                    "0": "3",
                                    "1": "2",
                                    "2": "Sci-Fi",
                                    "3": "3",
                                    "4": "1",
                                    "5": "15.0",
                                    "6": "12"
                                }
                            ]
                        },
                        "text/html": "<table><tr><th>customer_id</th><th>category_ranking</th><th>category_name</th><th>rental_count</th><th>average_comparison</th><th>percentile</th><th>category_percentage</th></tr><tr><td>1</td><td>1</td><td>Classics</td><td>6</td><td>4</td><td>1.0</td><td>19</td></tr><tr><td>1</td><td>2</td><td>Comedy</td><td>5</td><td>4</td><td>1.0</td><td>16</td></tr><tr><td>2</td><td>1</td><td>Sports</td><td>5</td><td>3</td><td>3.0</td><td>19</td></tr><tr><td>2</td><td>2</td><td>Classics</td><td>4</td><td>2</td><td>2.0</td><td>15</td></tr><tr><td>3</td><td>1</td><td>Action</td><td>4</td><td>2</td><td>5.0</td><td>15</td></tr><tr><td>3</td><td>2</td><td>Sci-Fi</td><td>3</td><td>1</td><td>15.0</td><td>12</td></tr></table>"
                    },
                    "metadata": {}
                }
            ],
            "execution_count": 13
        }
    ]
}
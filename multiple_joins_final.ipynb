{
    "metadata": {
        "kernelspec": {
            "name": "SQL",
            "display_name": "SQL",
            "language": "sql"
        },
        "language_info": {
            "name": "sql",
            "version": ""
        }
    },
    "nbformat_minor": 2,
    "nbformat": 4,
    "cells": [
        {
            "cell_type": "markdown",
            "source": [
                "# Part 1: Join: `dvd_rentals.rental` and `dvd_rentals.inventory`"
            ],
            "metadata": {
                "language": "sql",
                "azdata_cell_guid": "4e2597db-8aa2-4b1c-b10c-2cd3f155c7f4"
            },
            "attachments": {}
        },
        {
            "cell_type": "markdown",
            "source": [
                "## Purpose"
            ],
            "metadata": {
                "language": "sql",
                "azdata_cell_guid": "4b3e51e0-ffcf-425b-9fd8-6bd9f5a62c86"
            },
            "attachments": {}
        },
        {
            "cell_type": "code",
            "source": [
                "-- Purpose \n",
                "SELECT * \n",
                "FROM dvd_rentals.rental\n",
                "WHERE customer_id = 130\n",
                "LIMIT 10; \n",
                "\n",
                "/* We need to keep all of the customer rental records from dvd_rentals.rental and match up\n",
                "each record with its equivalent film_id value from the dvd_rentals.inventory table. */ "
            ],
            "metadata": {
                "azdata_cell_guid": "4694170f-59f4-4bd0-89f1-defdbe30b273",
                "language": "sql"
            },
            "outputs": [
                {
                    "output_type": "display_data",
                    "data": {
                        "text/html": "(10 row(s) affected)"
                    },
                    "metadata": {}
                },
                {
                    "output_type": "display_data",
                    "data": {
                        "text/html": "Total execution time: 00:00:00.105"
                    },
                    "metadata": {}
                },
                {
                    "output_type": "execute_result",
                    "metadata": {},
                    "execution_count": 1,
                    "data": {
                        "application/vnd.dataresource+json": {
                            "schema": {
                                "fields": [
                                    {
                                        "name": "rental_id"
                                    },
                                    {
                                        "name": "rental_date"
                                    },
                                    {
                                        "name": "inventory_id"
                                    },
                                    {
                                        "name": "customer_id"
                                    },
                                    {
                                        "name": "return_date"
                                    },
                                    {
                                        "name": "staff_id"
                                    },
                                    {
                                        "name": "last_update"
                                    }
                                ]
                            },
                            "data": [
                                {
                                    "0": "1",
                                    "1": "2005-05-24T22:53:30",
                                    "2": "367",
                                    "3": "130",
                                    "4": "2005-05-26T22:04:30",
                                    "5": "1",
                                    "6": "2006-02-15T21:30:53"
                                },
                                {
                                    "0": "746",
                                    "1": "2005-05-29T09:25:10",
                                    "2": "4272",
                                    "3": "130",
                                    "4": "2005-06-02T04:20:10",
                                    "5": "2",
                                    "6": "2006-02-15T21:30:53"
                                },
                                {
                                    "0": "1630",
                                    "1": "2005-06-16T07:55:01",
                                    "2": "2413",
                                    "3": "130",
                                    "4": "2005-06-19T06:38:01",
                                    "5": "1",
                                    "6": "2006-02-15T21:30:53"
                                },
                                {
                                    "0": "1864",
                                    "1": "2005-06-17T01:39:47",
                                    "2": "1815",
                                    "3": "130",
                                    "4": "2005-06-24T19:39:47",
                                    "5": "2",
                                    "6": "2006-02-15T21:30:53"
                                },
                                {
                                    "0": "2163",
                                    "1": "2005-06-17T23:46:16",
                                    "2": "2600",
                                    "3": "130",
                                    "4": "2005-06-22T22:48:16",
                                    "5": "2",
                                    "6": "2006-02-15T21:30:53"
                                },
                                {
                                    "0": "2292",
                                    "1": "2005-06-18T07:37:48",
                                    "2": "173",
                                    "3": "130",
                                    "4": "2005-06-20T02:45:48",
                                    "5": "2",
                                    "6": "2006-02-15T21:30:53"
                                },
                                {
                                    "0": "2535",
                                    "1": "2005-06-19T01:39:04",
                                    "2": "901",
                                    "3": "130",
                                    "4": "2005-06-28T01:33:04",
                                    "5": "2",
                                    "6": "2006-02-15T21:30:53"
                                },
                                {
                                    "0": "2982",
                                    "1": "2005-06-20T08:38:29",
                                    "2": "2574",
                                    "3": "130",
                                    "4": "2005-06-28T13:21:29",
                                    "5": "1",
                                    "6": "2006-02-15T21:30:53"
                                },
                                {
                                    "0": "4339",
                                    "1": "2005-07-07T18:41:42",
                                    "2": "3215",
                                    "3": "130",
                                    "4": "2005-07-08T13:00:42",
                                    "5": "1",
                                    "6": "2006-02-15T21:30:53"
                                },
                                {
                                    "0": "4485",
                                    "1": "2005-07-08T01:07:54",
                                    "2": "2614",
                                    "3": "130",
                                    "4": "2005-07-16T03:19:54",
                                    "5": "2",
                                    "6": "2006-02-15T21:30:53"
                                }
                            ]
                        },
                        "text/html": [
                            "<table>",
                            "<tr><th>rental_id</th><th>rental_date</th><th>inventory_id</th><th>customer_id</th><th>return_date</th><th>staff_id</th><th>last_update</th></tr>",
                            "<tr><td>1</td><td>2005-05-24T22:53:30</td><td>367</td><td>130</td><td>2005-05-26T22:04:30</td><td>1</td><td>2006-02-15T21:30:53</td></tr>",
                            "<tr><td>746</td><td>2005-05-29T09:25:10</td><td>4272</td><td>130</td><td>2005-06-02T04:20:10</td><td>2</td><td>2006-02-15T21:30:53</td></tr>",
                            "<tr><td>1630</td><td>2005-06-16T07:55:01</td><td>2413</td><td>130</td><td>2005-06-19T06:38:01</td><td>1</td><td>2006-02-15T21:30:53</td></tr>",
                            "<tr><td>1864</td><td>2005-06-17T01:39:47</td><td>1815</td><td>130</td><td>2005-06-24T19:39:47</td><td>2</td><td>2006-02-15T21:30:53</td></tr>",
                            "<tr><td>2163</td><td>2005-06-17T23:46:16</td><td>2600</td><td>130</td><td>2005-06-22T22:48:16</td><td>2</td><td>2006-02-15T21:30:53</td></tr>",
                            "<tr><td>2292</td><td>2005-06-18T07:37:48</td><td>173</td><td>130</td><td>2005-06-20T02:45:48</td><td>2</td><td>2006-02-15T21:30:53</td></tr>",
                            "<tr><td>2535</td><td>2005-06-19T01:39:04</td><td>901</td><td>130</td><td>2005-06-28T01:33:04</td><td>2</td><td>2006-02-15T21:30:53</td></tr>",
                            "<tr><td>2982</td><td>2005-06-20T08:38:29</td><td>2574</td><td>130</td><td>2005-06-28T13:21:29</td><td>1</td><td>2006-02-15T21:30:53</td></tr>",
                            "<tr><td>4339</td><td>2005-07-07T18:41:42</td><td>3215</td><td>130</td><td>2005-07-08T13:00:42</td><td>1</td><td>2006-02-15T21:30:53</td></tr>",
                            "<tr><td>4485</td><td>2005-07-08T01:07:54</td><td>2614</td><td>130</td><td>2005-07-16T03:19:54</td><td>2</td><td>2006-02-15T21:30:53</td></tr>",
                            "</table>"
                        ]
                    }
                }
            ],
            "execution_count": 1
        },
        {
            "cell_type": "markdown",
            "source": [
                "## Hypotheses"
            ],
            "metadata": {
                "language": "sql",
                "azdata_cell_guid": "4fe146e2-57d8-47bf-b363-647f1784fc67"
            },
            "attachments": {}
        },
        {
            "cell_type": "code",
            "source": [
                "/* Hypothesis 1: no. of unique inventory_id records would be equal \n",
                "in both `rental` and `inventory` tables */\n",
                "SELECT \n",
                "    COUNT(DISTINCT inventory_id)\n",
                "FROM dvd_rentals.rental; \n",
                "\n",
                "\n",
                "SELECT\n",
                "    COUNT(DISTINCT inventory_id)\n",
                "FROM dvd_rentals.inventory; \n",
                "\n",
                "\n",
                "-- Rejected \n",
                "/* 1 additional inventory_id value in the dvd_rentals.inventory table \n",
                "compared to the dvd_rentals.rental table */"
            ],
            "metadata": {
                "azdata_cell_guid": "7513f9fc-0a24-4ed2-9fea-3fd7c0322bc9",
                "language": "sql"
            },
            "outputs": [
                {
                    "output_type": "display_data",
                    "data": {
                        "text/html": "(1 row(s) affected)"
                    },
                    "metadata": {}
                },
                {
                    "output_type": "display_data",
                    "data": {
                        "text/html": "(1 row(s) affected)"
                    },
                    "metadata": {}
                },
                {
                    "output_type": "display_data",
                    "data": {
                        "text/html": "Total execution time: 00:00:00.039"
                    },
                    "metadata": {}
                },
                {
                    "output_type": "execute_result",
                    "execution_count": 1,
                    "data": {
                        "application/vnd.dataresource+json": {
                            "schema": {
                                "fields": [
                                    {
                                        "name": "count"
                                    }
                                ]
                            },
                            "data": [
                                {
                                    "0": "4580"
                                }
                            ]
                        },
                        "text/html": "<table><tr><th>count</th></tr><tr><td>4580</td></tr></table>"
                    },
                    "metadata": {}
                },
                {
                    "output_type": "execute_result",
                    "execution_count": 1,
                    "data": {
                        "application/vnd.dataresource+json": {
                            "schema": {
                                "fields": [
                                    {
                                        "name": "count"
                                    }
                                ]
                            },
                            "data": [
                                {
                                    "0": "4581"
                                }
                            ]
                        },
                        "text/html": "<table><tr><th>count</th></tr><tr><td>4581</td></tr></table>"
                    },
                    "metadata": {}
                }
            ],
            "execution_count": 1
        },
        {
            "cell_type": "code",
            "source": [
                "-- \n",
                "/* H2 There will be a multiple records per unique inventory_id in the \n",
                "dvd_rentals.rental table */\n",
                "SELECT\n",
                "    inventory_id as target_column_values, \n",
                "    COUNT(*) as record_counts\n",
                "FROM dvd_rentals.rental\n",
                "GROUP BY target_column_values\n",
                "ORDER BY record_counts ASC\n",
                "LIMIT 10\n",
                "\n",
                "/* Not much insight: we can only see (a) max number of times a unique inventory_id appears and/or (b) the top ranking \n",
                "inventory_id values */"
            ],
            "metadata": {
                "language": "sql",
                "azdata_cell_guid": "544f1eab-e32a-4837-8eaf-5c3a2a16bd7e",
                "tags": []
            },
            "outputs": [
                {
                    "output_type": "display_data",
                    "data": {
                        "text/html": "(10 row(s) affected)"
                    },
                    "metadata": {}
                },
                {
                    "output_type": "display_data",
                    "data": {
                        "text/html": "Total execution time: 00:00:00.096"
                    },
                    "metadata": {}
                },
                {
                    "output_type": "execute_result",
                    "metadata": {},
                    "execution_count": 2,
                    "data": {
                        "application/vnd.dataresource+json": {
                            "schema": {
                                "fields": [
                                    {
                                        "name": "target_column_values"
                                    },
                                    {
                                        "name": "record_counts"
                                    }
                                ]
                            },
                            "data": [
                                {
                                    "0": "2786",
                                    "1": "1"
                                },
                                {
                                    "0": "1580",
                                    "1": "1"
                                },
                                {
                                    "0": "2662",
                                    "1": "1"
                                },
                                {
                                    "0": "3372",
                                    "1": "1"
                                },
                                {
                                    "0": "2172",
                                    "1": "2"
                                },
                                {
                                    "0": "3097",
                                    "1": "2"
                                },
                                {
                                    "0": "4519",
                                    "1": "2"
                                },
                                {
                                    "0": "2784",
                                    "1": "2"
                                },
                                {
                                    "0": "4221",
                                    "1": "2"
                                },
                                {
                                    "0": "663",
                                    "1": "2"
                                }
                            ]
                        },
                        "text/html": [
                            "<table>",
                            "<tr><th>target_column_values</th><th>record_counts</th></tr>",
                            "<tr><td>2786</td><td>1</td></tr>",
                            "<tr><td>1580</td><td>1</td></tr>",
                            "<tr><td>2662</td><td>1</td></tr>",
                            "<tr><td>3372</td><td>1</td></tr>",
                            "<tr><td>2172</td><td>2</td></tr>",
                            "<tr><td>3097</td><td>2</td></tr>",
                            "<tr><td>4519</td><td>2</td></tr>",
                            "<tr><td>2784</td><td>2</td></tr>",
                            "<tr><td>4221</td><td>2</td></tr>",
                            "<tr><td>663</td><td>2</td></tr>",
                            "</table>"
                        ]
                    }
                }
            ],
            "execution_count": 2
        },
        {
            "cell_type": "code",
            "source": [
                "/* H2: there will be multiple records per unique inventory_id in \n",
                "dvd_rentals.rental */\n",
                "\n",
                "-- first generate group by counts on the target_column_values column\n",
                "WITH counts_base AS (\n",
                "SELECT\n",
                "    inventory_id as target_column_values, \n",
                "    COUNT(*) as record_counts\n",
                "FROM dvd_rentals.rental\n",
                "GROUP BY target_column_values\n",
                ")\n",
                "\n",
                "/* summarize the group by counts above by grouping again on the row_counts \n",
                "from counts_base CTE part */\n",
                "SELECT \n",
                "    record_counts, \n",
                "    COUNT(target_column_values) AS count_of_target_values\n",
                "FROM counts_base\n",
                "GROUP BY record_counts\n",
                "ORDER BY record_counts; \n",
                ""
            ],
            "metadata": {
                "azdata_cell_guid": "1a9c2878-fc87-4739-a6d7-2c57e589c762",
                "language": "sql"
            },
            "outputs": [
                {
                    "output_type": "display_data",
                    "data": {
                        "text/html": "(5 row(s) affected)"
                    },
                    "metadata": {}
                },
                {
                    "output_type": "display_data",
                    "data": {
                        "text/html": "Total execution time: 00:00:00.065"
                    },
                    "metadata": {}
                },
                {
                    "output_type": "execute_result",
                    "metadata": {},
                    "execution_count": 3,
                    "data": {
                        "application/vnd.dataresource+json": {
                            "schema": {
                                "fields": [
                                    {
                                        "name": "record_counts"
                                    },
                                    {
                                        "name": "count_of_target_values"
                                    }
                                ]
                            },
                            "data": [
                                {
                                    "0": "1",
                                    "1": "4"
                                },
                                {
                                    "0": "2",
                                    "1": "1126"
                                },
                                {
                                    "0": "3",
                                    "1": "1151"
                                },
                                {
                                    "0": "4",
                                    "1": "1160"
                                },
                                {
                                    "0": "5",
                                    "1": "1139"
                                }
                            ]
                        },
                        "text/html": [
                            "<table>",
                            "<tr><th>record_counts</th><th>count_of_target_values</th></tr>",
                            "<tr><td>1</td><td>4</td></tr>",
                            "<tr><td>2</td><td>1126</td></tr>",
                            "<tr><td>3</td><td>1151</td></tr>",
                            "<tr><td>4</td><td>1160</td></tr>",
                            "<tr><td>5</td><td>1139</td></tr>",
                            "</table>"
                        ]
                    }
                }
            ],
            "execution_count": 3
        },
        {
            "cell_type": "code",
            "source": [
                "/* H3: There will be multiple inventory_id records per unique film_id value \n",
                "in the dvd_rentals.inventory table */ \n",
                "\n",
                "-- first generate group by counts on the target_column_values column\n",
                "\n",
                "WITH counts_base AS (\n",
                "SELECT\n",
                "    film_id as target_column_values,\n",
                "    COUNT(DISTINCT inventory_id) as unique_record_counts\n",
                "FROM dvd_rentals.inventory\n",
                "GROUP BY target_column_values\n",
                ")\n",
                "\n",
                "/* summarize the group by counts above by grouping again on the row_counts \n",
                "from counts_base CTE part */\n",
                "\n",
                "SELECT \n",
                "    unique_record_counts, \n",
                "    COUNT(target_column_values) AS count_of_target_values\n",
                "FROM counts_base\n",
                "GROUP BY unique_record_counts\n",
                "ORDER BY unique_record_counts; \n",
                "\n",
                "-- Hypothesis Confirmed "
            ],
            "metadata": {
                "azdata_cell_guid": "37b3653f-d61c-4e44-9885-463ea013db25",
                "language": "sql"
            },
            "outputs": [
                {
                    "output_type": "display_data",
                    "data": {
                        "text/html": "(7 row(s) affected)"
                    },
                    "metadata": {}
                },
                {
                    "output_type": "display_data",
                    "data": {
                        "text/html": "Total execution time: 00:00:00.045"
                    },
                    "metadata": {}
                },
                {
                    "output_type": "execute_result",
                    "metadata": {},
                    "execution_count": 4,
                    "data": {
                        "application/vnd.dataresource+json": {
                            "schema": {
                                "fields": [
                                    {
                                        "name": "unique_record_counts"
                                    },
                                    {
                                        "name": "count_of_target_values"
                                    }
                                ]
                            },
                            "data": [
                                {
                                    "0": "2",
                                    "1": "133"
                                },
                                {
                                    "0": "3",
                                    "1": "131"
                                },
                                {
                                    "0": "4",
                                    "1": "183"
                                },
                                {
                                    "0": "5",
                                    "1": "136"
                                },
                                {
                                    "0": "6",
                                    "1": "187"
                                },
                                {
                                    "0": "7",
                                    "1": "116"
                                },
                                {
                                    "0": "8",
                                    "1": "72"
                                }
                            ]
                        },
                        "text/html": [
                            "<table>",
                            "<tr><th>unique_record_counts</th><th>count_of_target_values</th></tr>",
                            "<tr><td>2</td><td>133</td></tr>",
                            "<tr><td>3</td><td>131</td></tr>",
                            "<tr><td>4</td><td>183</td></tr>",
                            "<tr><td>5</td><td>136</td></tr>",
                            "<tr><td>6</td><td>187</td></tr>",
                            "<tr><td>7</td><td>116</td></tr>",
                            "<tr><td>8</td><td>72</td></tr>",
                            "</table>"
                        ]
                    }
                }
            ],
            "execution_count": 4
        },
        {
            "cell_type": "markdown",
            "source": [
                "## Returning to the 2 Key Questions"
            ],
            "metadata": {
                "language": "sql",
                "azdata_cell_guid": "f6d83968-c102-4d3c-9ae4-bd35a1ec70df"
            },
            "attachments": {}
        },
        {
            "cell_type": "markdown",
            "source": [
                "### 1. How many records exist per `inventory_id` in `rental` or `inventory` table"
            ],
            "metadata": {
                "language": "",
                "azdata_cell_guid": "0ccfcc53-b219-4017-bf6c-5fbf22328265"
            },
            "attachments": {}
        },
        {
            "cell_type": "markdown",
            "source": [
                "`rental` distribution analysis on `inventory_id` foreign key"
            ],
            "metadata": {
                "language": "",
                "azdata_cell_guid": "39c6b19e-9d28-4fde-9175-02fcd48438d2"
            },
            "attachments": {}
        },
        {
            "cell_type": "code",
            "source": [
                "WITH counts_base AS(\n",
                "SELECT\n",
                "    inventory_id AS foreign_key_values,\n",
                "    COUNT(*) AS row_counts\n",
                "FROM dvd_rentals.rental\n",
                "GROUP BY foreign_key_values\n",
                ")\n",
                "\n",
                "SELECT\n",
                "    row_counts,\n",
                "    COUNT(foreign_key_values) AS count_of_foreign_keys\n",
                "FROM counts_base\n",
                "GROUP BY row_counts\n",
                "ORDER BY row_counts; \n",
                "\n",
                "-- 1-to-many relationship\n",
                "/* Interpretation: 4 of our foreign key values (the inventory_id in this case) \n",
                "will have only a single row in the rental_table */"
            ],
            "metadata": {
                "language": "sql",
                "azdata_cell_guid": "4020648c-0a27-4e13-a239-32280ceb38bd"
            },
            "outputs": [
                {
                    "output_type": "display_data",
                    "data": {
                        "text/html": "(5 row(s) affected)"
                    },
                    "metadata": {}
                },
                {
                    "output_type": "display_data",
                    "data": {
                        "text/html": "Total execution time: 00:00:00.047"
                    },
                    "metadata": {}
                },
                {
                    "output_type": "execute_result",
                    "metadata": {},
                    "execution_count": 5,
                    "data": {
                        "application/vnd.dataresource+json": {
                            "schema": {
                                "fields": [
                                    {
                                        "name": "row_counts"
                                    },
                                    {
                                        "name": "count_of_foreign_keys"
                                    }
                                ]
                            },
                            "data": [
                                {
                                    "0": "1",
                                    "1": "4"
                                },
                                {
                                    "0": "2",
                                    "1": "1126"
                                },
                                {
                                    "0": "3",
                                    "1": "1151"
                                },
                                {
                                    "0": "4",
                                    "1": "1160"
                                },
                                {
                                    "0": "5",
                                    "1": "1139"
                                }
                            ]
                        },
                        "text/html": [
                            "<table>",
                            "<tr><th>row_counts</th><th>count_of_foreign_keys</th></tr>",
                            "<tr><td>1</td><td>4</td></tr>",
                            "<tr><td>2</td><td>1126</td></tr>",
                            "<tr><td>3</td><td>1151</td></tr>",
                            "<tr><td>4</td><td>1160</td></tr>",
                            "<tr><td>5</td><td>1139</td></tr>",
                            "</table>"
                        ]
                    }
                }
            ],
            "execution_count": 5
        },
        {
            "cell_type": "markdown",
            "source": [
                "<span style=\"color: #800000;\">`inventory`</span> distribution analysis on <span style=\"color: #800000;\">`inventory_id`</span> foreign key"
            ],
            "metadata": {
                "language": "",
                "azdata_cell_guid": "660d49bc-030b-449d-9bfa-edac3fe51013"
            },
            "attachments": {}
        },
        {
            "cell_type": "code",
            "source": [
                "WITH counts_base AS(\n",
                "SELECT\n",
                "    inventory_id AS foreign_key_values,\n",
                "    COUNT(*) AS row_counts\n",
                "FROM dvd_rentals.inventory\n",
                "GROUP BY foreign_key_values\n",
                ")\n",
                "\n",
                "SELECT\n",
                "    row_counts,\n",
                "    COUNT(foreign_key_values) AS count_of_foreign_keys\n",
                "FROM counts_base\n",
                "GROUP BY row_counts\n",
                "ORDER BY row_counts; \n",
                "\n",
                "-- 1-to-1 relationship\n",
                "\n",
                "-- Confirmation: Order by descending order to see the biggest record_count values \n",
                "SELECT \n",
                "    inventory_id, \n",
                "    COUNT(*) as record_count\n",
                "FROM dvd_rentals.inventory\n",
                "GROUP BY inventory_id\n",
                "ORDER BY record_count DESC\n",
                "LIMIT 5; \n",
                "-- 1-to-1 relationship"
            ],
            "metadata": {
                "language": "sql",
                "azdata_cell_guid": "bf2d1ebb-9552-4577-a55a-f380fa2c63cb",
                "tags": []
            },
            "outputs": [
                {
                    "output_type": "display_data",
                    "data": {
                        "text/html": "(1 row(s) affected)"
                    },
                    "metadata": {}
                },
                {
                    "output_type": "display_data",
                    "data": {
                        "text/html": "(5 row(s) affected)"
                    },
                    "metadata": {}
                },
                {
                    "output_type": "display_data",
                    "data": {
                        "text/html": "Total execution time: 00:00:00.056"
                    },
                    "metadata": {}
                },
                {
                    "output_type": "execute_result",
                    "metadata": {},
                    "execution_count": 6,
                    "data": {
                        "application/vnd.dataresource+json": {
                            "schema": {
                                "fields": [
                                    {
                                        "name": "row_counts"
                                    },
                                    {
                                        "name": "count_of_foreign_keys"
                                    }
                                ]
                            },
                            "data": [
                                {
                                    "0": "1",
                                    "1": "4581"
                                }
                            ]
                        },
                        "text/html": [
                            "<table>",
                            "<tr><th>row_counts</th><th>count_of_foreign_keys</th></tr>",
                            "<tr><td>1</td><td>4581</td></tr>",
                            "</table>"
                        ]
                    }
                },
                {
                    "output_type": "execute_result",
                    "metadata": {},
                    "execution_count": 6,
                    "data": {
                        "application/vnd.dataresource+json": {
                            "schema": {
                                "fields": [
                                    {
                                        "name": "inventory_id"
                                    },
                                    {
                                        "name": "record_count"
                                    }
                                ]
                            },
                            "data": [
                                {
                                    "0": "273",
                                    "1": "1"
                                },
                                {
                                    "0": "3936",
                                    "1": "1"
                                },
                                {
                                    "0": "2574",
                                    "1": "1"
                                },
                                {
                                    "0": "951",
                                    "1": "1"
                                },
                                {
                                    "0": "1489",
                                    "1": "1"
                                }
                            ]
                        },
                        "text/html": [
                            "<table>",
                            "<tr><th>inventory_id</th><th>record_count</th></tr>",
                            "<tr><td>273</td><td>1</td></tr>",
                            "<tr><td>3936</td><td>1</td></tr>",
                            "<tr><td>2574</td><td>1</td></tr>",
                            "<tr><td>951</td><td>1</td></tr>",
                            "<tr><td>1489</td><td>1</td></tr>",
                            "</table>"
                        ]
                    }
                }
            ],
            "execution_count": 6
        },
        {
            "cell_type": "markdown",
            "source": [
                "### 2. How many overlapping and missing unique `foreign key` values are there between two tables?"
            ],
            "metadata": {
                "language": "",
                "azdata_cell_guid": "d1bc742c-8c08-4ccd-b253-7af9ac3fc64c"
            },
            "attachments": {}
        },
        {
            "cell_type": "code",
            "source": [
                "-- how many foreign keys only exist in the left table and not in the right?\n",
                "SELECT \n",
                "    COUNT(DISTINCT rental.inventory_id)\n",
                "FROM dvd_rentals.rental\n",
                "WHERE NOT EXISTS (\n",
                "    SELECT inventory_id\n",
                "    FROM dvd_rentals.inventory\n",
                "    WHERE rental.inventory_id = inventory.inventory_id\n",
                ")"
            ],
            "metadata": {
                "language": "sql",
                "azdata_cell_guid": "907ead4f-ad00-413e-9683-8ad3ca77924d"
            },
            "outputs": [
                {
                    "output_type": "display_data",
                    "data": {
                        "text/html": "(1 row(s) affected)"
                    },
                    "metadata": {}
                },
                {
                    "output_type": "display_data",
                    "data": {
                        "text/html": "Total execution time: 00:00:00.067"
                    },
                    "metadata": {}
                },
                {
                    "output_type": "execute_result",
                    "metadata": {},
                    "execution_count": 7,
                    "data": {
                        "application/vnd.dataresource+json": {
                            "schema": {
                                "fields": [
                                    {
                                        "name": "count"
                                    }
                                ]
                            },
                            "data": [
                                {
                                    "0": "0"
                                }
                            ]
                        },
                        "text/html": [
                            "<table>",
                            "<tr><th>count</th></tr>",
                            "<tr><td>0</td></tr>",
                            "</table>"
                        ]
                    }
                }
            ],
            "execution_count": 7
        },
        {
            "cell_type": "code",
            "source": [
                "-- how many foreign keys only exist in the right table and not in the left?\n",
                "\n",
                "SELECT \n",
                "    COUNT(DISTINCT inventory.inventory_id)\n",
                "FROM dvd_rentals.inventory\n",
                "WHERE NOT EXISTS (\n",
                "    SELECT inventory_id\n",
                "    FROM dvd_rentals.rental\n",
                "    WHERE rental.inventory_id = inventory.inventory_id\n",
                ")"
            ],
            "metadata": {
                "language": "sql",
                "azdata_cell_guid": "12b84831-93f9-4dab-a024-a0b68f77a7f5"
            },
            "outputs": [
                {
                    "output_type": "display_data",
                    "data": {
                        "text/html": "(1 row(s) affected)"
                    },
                    "metadata": {}
                },
                {
                    "output_type": "display_data",
                    "data": {
                        "text/html": "Total execution time: 00:00:00.047"
                    },
                    "metadata": {}
                },
                {
                    "output_type": "execute_result",
                    "metadata": {},
                    "execution_count": 8,
                    "data": {
                        "application/vnd.dataresource+json": {
                            "schema": {
                                "fields": [
                                    {
                                        "name": "count"
                                    }
                                ]
                            },
                            "data": [
                                {
                                    "0": "1"
                                }
                            ]
                        },
                        "text/html": [
                            "<table>",
                            "<tr><th>count</th></tr>",
                            "<tr><td>1</td></tr>",
                            "</table>"
                        ]
                    }
                }
            ],
            "execution_count": 8
        },
        {
            "cell_type": "code",
            "source": [
                "-- Inspection of FKV that only exists in the right table \n",
                "SELECT *\n",
                "FROM dvd_rentals.inventory\n",
                "WHERE NOT EXISTS (\n",
                "    SELECT inventory_id\n",
                "    FROM dvd_rentals.rental\n",
                "    WHERE rental.inventory_id = inventory.inventory_id\n",
                ")\n",
                "\n",
                "/* It's possible that this particular rental inventory unit \n",
                "was never rented out by a customer */"
            ],
            "metadata": {
                "language": "sql",
                "azdata_cell_guid": "b044fa6e-4c5e-4b61-bc6c-88344c1a93e5"
            },
            "outputs": [
                {
                    "output_type": "display_data",
                    "data": {
                        "text/html": "(1 row(s) affected)"
                    },
                    "metadata": {}
                },
                {
                    "output_type": "display_data",
                    "data": {
                        "text/html": "Total execution time: 00:00:00.097"
                    },
                    "metadata": {}
                },
                {
                    "output_type": "execute_result",
                    "metadata": {},
                    "execution_count": 9,
                    "data": {
                        "application/vnd.dataresource+json": {
                            "schema": {
                                "fields": [
                                    {
                                        "name": "inventory_id"
                                    },
                                    {
                                        "name": "film_id"
                                    },
                                    {
                                        "name": "store_id"
                                    },
                                    {
                                        "name": "last_update"
                                    }
                                ]
                            },
                            "data": [
                                {
                                    "0": "5",
                                    "1": "1",
                                    "2": "2",
                                    "3": "2006-02-15T05:09:17"
                                }
                            ]
                        },
                        "text/html": [
                            "<table>",
                            "<tr><th>inventory_id</th><th>film_id</th><th>store_id</th><th>last_update</th></tr>",
                            "<tr><td>5</td><td>1</td><td>2</td><td>2006-02-15T05:09:17</td></tr>",
                            "</table>"
                        ]
                    }
                }
            ],
            "execution_count": 9
        },
        {
            "cell_type": "code",
            "source": [
                "-- Joint overlap analysis \n",
                "SELECT \n",
                "    COUNT(DISTINCT rental.inventory_id)\n",
                "FROM dvd_rentals.rental\n",
                "WHERE EXISTS (\n",
                "    SELECT inventory_id\n",
                "    FROM dvd_rentals.inventory\n",
                "    WHERE rental.inventory_id = inventory.inventory_id\n",
                ")"
            ],
            "metadata": {
                "language": "sql",
                "azdata_cell_guid": "9de1beb7-88ce-4fac-9db8-25bc1694edae"
            },
            "outputs": [
                {
                    "output_type": "display_data",
                    "data": {
                        "text/html": "(1 row(s) affected)"
                    },
                    "metadata": {}
                },
                {
                    "output_type": "display_data",
                    "data": {
                        "text/html": "Total execution time: 00:00:00.048"
                    },
                    "metadata": {}
                },
                {
                    "output_type": "execute_result",
                    "metadata": {},
                    "execution_count": 10,
                    "data": {
                        "application/vnd.dataresource+json": {
                            "schema": {
                                "fields": [
                                    {
                                        "name": "count"
                                    }
                                ]
                            },
                            "data": [
                                {
                                    "0": "4580"
                                }
                            ]
                        },
                        "text/html": [
                            "<table>",
                            "<tr><th>count</th></tr>",
                            "<tr><td>4580</td></tr>",
                            "</table>"
                        ]
                    }
                }
            ],
            "execution_count": 10
        },
        {
            "cell_type": "markdown",
            "source": [
                "## Implementing Joins "
            ],
            "metadata": {
                "language": "sql",
                "azdata_cell_guid": "6c41fe9d-ae1e-4aa5-b8ed-53ad2a1f78a8"
            },
            "attachments": {}
        },
        {
            "cell_type": "markdown",
            "source": [
                "Inspecting whether number of `raw_record_counts` and `unique_foreign_key` values are equal in outputs resulting from both types of join"
            ],
            "metadata": {
                "language": "sql",
                "azdata_cell_guid": "5a8996e2-1a69-4b9e-9432-188be512b0d8"
            },
            "attachments": {}
        },
        {
            "cell_type": "code",
            "source": [
                "DROP TABLE IF EXISTS left_rental_join; \n",
                "CREATE TEMP TABLE left_rental_join AS \n",
                "SELECT\n",
                "    rental.customer_id,\n",
                "    rental.inventory_id, \n",
                "    inventory.film_id\n",
                "FROM dvd_rentals.rental\n",
                "LEFT JOIN dvd_rentals.inventory\n",
                "    ON rental.inventory_id = inventory.inventory_id; \n",
                "\n",
                "DROP TABLE IF EXISTS inner_rental_join; \n",
                "CREATE TEMP TABLE inner_rental_join AS \n",
                "SELECT\n",
                "    rental.customer_id,\n",
                "    rental.inventory_id, \n",
                "    inventory.film_id\n",
                "FROM dvd_rentals.rental\n",
                "INNER JOIN dvd_rentals.inventory\n",
                "    ON rental.inventory_id = inventory.inventory_id; \n",
                "\n",
                "-- check counts for each output \n",
                "-- parantheses used to make code look cleaner\n",
                "    \n",
                "(\n",
                "    SELECT \n",
                "        'left join' AS join_type,\n",
                "        COUNT(*) AS record_count, \n",
                "        COUNT(DISTINCT inventory_id) AS unique_key_values\n",
                "    FROM left_rental_join\n",
                ")\n",
                "UNION\n",
                "(\n",
                "    SELECT \n",
                "        'inner join' AS join_type,\n",
                "        COUNT(*) AS record_count, \n",
                "        COUNT(DISTINCT inventory_id) AS unique_key_values\n",
                "    FROM inner_rental_join\n",
                ")\n",
                "\n",
                "-- no difference between an inner join or left join for our datasets"
            ],
            "metadata": {
                "language": "sql",
                "azdata_cell_guid": "02f48f1c-9c13-41a4-865e-f59444dc51bf"
            },
            "outputs": [
                {
                    "output_type": "display_data",
                    "data": {
                        "text/html": "Commands completed successfully"
                    },
                    "metadata": {}
                },
                {
                    "output_type": "display_data",
                    "data": {
                        "text/html": "Commands completed successfully"
                    },
                    "metadata": {}
                },
                {
                    "output_type": "display_data",
                    "data": {
                        "text/html": "Commands completed successfully"
                    },
                    "metadata": {}
                },
                {
                    "output_type": "display_data",
                    "data": {
                        "text/html": "Commands completed successfully"
                    },
                    "metadata": {}
                },
                {
                    "output_type": "display_data",
                    "data": {
                        "text/html": "(2 row(s) affected)"
                    },
                    "metadata": {}
                },
                {
                    "output_type": "display_data",
                    "data": {
                        "text/html": "Total execution time: 00:00:00.380"
                    },
                    "metadata": {}
                },
                {
                    "output_type": "execute_result",
                    "metadata": {},
                    "execution_count": 12,
                    "data": {
                        "application/vnd.dataresource+json": {
                            "schema": {
                                "fields": [
                                    {
                                        "name": "join_type"
                                    },
                                    {
                                        "name": "record_count"
                                    },
                                    {
                                        "name": "unique_key_values"
                                    }
                                ]
                            },
                            "data": [
                                {
                                    "0": "inner join",
                                    "1": "16044",
                                    "2": "4580"
                                },
                                {
                                    "0": "left join",
                                    "1": "16044",
                                    "2": "4580"
                                }
                            ]
                        },
                        "text/html": [
                            "<table>",
                            "<tr><th>join_type</th><th>record_count</th><th>unique_key_values</th></tr>",
                            "<tr><td>inner join</td><td>16044</td><td>4580</td></tr>",
                            "<tr><td>left join</td><td>16044</td><td>4580</td></tr>",
                            "</table>"
                        ]
                    }
                }
            ],
            "execution_count": 12
        },
        {
            "cell_type": "markdown",
            "source": [
                "# Part 2: Joining `dvd_rentals.inventory` and `dvd_rentals.film_id`"
            ],
            "metadata": {
                "language": "sql",
                "azdata_cell_guid": "69625de7-4221-41b2-b767-7e89b793587f"
            },
            "attachments": {}
        },
        {
            "cell_type": "markdown",
            "source": [
                "We are going to follow the same joining journey as above and therefore, some steps have been skipped.   \n",
                "1. Defining Purpose  \n",
                "2. Coming up with contextual hypotheses about the data and validating them  \n",
                "3. Distribution of foreign keys within each table  \n",
                "4. No. of unique foreign key values that exist in each table"
            ],
            "metadata": {
                "language": "sql",
                "azdata_cell_guid": "e603975a-a7d0-4229-820b-6448f7b3f4f8"
            },
            "attachments": {}
        },
        {
            "cell_type": "code",
            "source": [
                "/* H1: 1-to-many relationship for film_id and rows \n",
                "of dvd_rentals.inventory table */\n",
                "\n",
                "WITH counts_base AS ( \n",
                "SELECT \n",
                "    film_id as film_id_values, \n",
                "    COUNT(*) AS row_count\n",
                "FROM dvd_rentals.inventory\n",
                "GROUP BY film_id\n",
                ")\n",
                "\n",
                "SELECT\n",
                "    row_count, \n",
                "    COUNT(DISTINCT film_id_values) AS unique_film_id_values\n",
                "FROM counts_base\n",
                "GROUP BY row_count\n",
                "ORDER BY row_count\n",
                "\n",
                "-- Hypothesis validated"
            ],
            "metadata": {
                "language": "sql",
                "azdata_cell_guid": "340e0a49-46cf-42d9-9a8f-05a1367c07ed",
                "tags": []
            },
            "outputs": [
                {
                    "output_type": "display_data",
                    "data": {
                        "text/html": "(7 row(s) affected)"
                    },
                    "metadata": {}
                },
                {
                    "output_type": "display_data",
                    "data": {
                        "text/html": "Total execution time: 00:00:00.035"
                    },
                    "metadata": {}
                },
                {
                    "output_type": "execute_result",
                    "metadata": {},
                    "execution_count": 13,
                    "data": {
                        "application/vnd.dataresource+json": {
                            "schema": {
                                "fields": [
                                    {
                                        "name": "row_count"
                                    },
                                    {
                                        "name": "unique_film_id_values"
                                    }
                                ]
                            },
                            "data": [
                                {
                                    "0": "2",
                                    "1": "133"
                                },
                                {
                                    "0": "3",
                                    "1": "131"
                                },
                                {
                                    "0": "4",
                                    "1": "183"
                                },
                                {
                                    "0": "5",
                                    "1": "136"
                                },
                                {
                                    "0": "6",
                                    "1": "187"
                                },
                                {
                                    "0": "7",
                                    "1": "116"
                                },
                                {
                                    "0": "8",
                                    "1": "72"
                                }
                            ]
                        },
                        "text/html": [
                            "<table>",
                            "<tr><th>row_count</th><th>unique_film_id_values</th></tr>",
                            "<tr><td>2</td><td>133</td></tr>",
                            "<tr><td>3</td><td>131</td></tr>",
                            "<tr><td>4</td><td>183</td></tr>",
                            "<tr><td>5</td><td>136</td></tr>",
                            "<tr><td>6</td><td>187</td></tr>",
                            "<tr><td>7</td><td>116</td></tr>",
                            "<tr><td>8</td><td>72</td></tr>",
                            "</table>"
                        ]
                    }
                }
            ],
            "execution_count": 13
        },
        {
            "cell_type": "code",
            "source": [
                "-- H2: 1-to-1 relationship for film_id and the rows of the dvd_rentals.film\n",
                "\n",
                "SELECT\n",
                "    film_id, \n",
                "    COUNT(*) AS record_count\n",
                "FROM dvd_rentals.film\n",
                "GROUP BY film_id\n",
                "ORDER BY record_count DESC\n",
                "LIMIT 5; \n",
                "\n",
                "-- Retrieving last 5 rows in descending order to confirm hypothesis\n",
                "-- Hypothesis validated\n",
                ""
            ],
            "metadata": {
                "language": "sql",
                "azdata_cell_guid": "f4cde8f0-0d8c-4b51-bb86-6aac165e5a22",
                "tags": []
            },
            "outputs": [
                {
                    "output_type": "display_data",
                    "data": {
                        "text/html": "(5 row(s) affected)"
                    },
                    "metadata": {}
                },
                {
                    "output_type": "display_data",
                    "data": {
                        "text/html": "Total execution time: 00:00:00.166"
                    },
                    "metadata": {}
                },
                {
                    "output_type": "execute_result",
                    "metadata": {},
                    "execution_count": 14,
                    "data": {
                        "application/vnd.dataresource+json": {
                            "schema": {
                                "fields": [
                                    {
                                        "name": "film_id"
                                    },
                                    {
                                        "name": "record_count"
                                    }
                                ]
                            },
                            "data": [
                                {
                                    "0": "273",
                                    "1": "1"
                                },
                                {
                                    "0": "51",
                                    "1": "1"
                                },
                                {
                                    "0": "951",
                                    "1": "1"
                                },
                                {
                                    "0": "839",
                                    "1": "1"
                                },
                                {
                                    "0": "652",
                                    "1": "1"
                                }
                            ]
                        },
                        "text/html": [
                            "<table>",
                            "<tr><th>film_id</th><th>record_count</th></tr>",
                            "<tr><td>273</td><td>1</td></tr>",
                            "<tr><td>51</td><td>1</td></tr>",
                            "<tr><td>951</td><td>1</td></tr>",
                            "<tr><td>839</td><td>1</td></tr>",
                            "<tr><td>652</td><td>1</td></tr>",
                            "</table>"
                        ]
                    }
                }
            ],
            "execution_count": 14
        },
        {
            "cell_type": "code",
            "source": [
                "-- Overlap and unique-value analysis \n",
                "-- FKVs only in left and not the right table\n",
                "SELECT\n",
                "    COUNT(DISTINCT inventory.film_id)\n",
                "FROM dvd_rentals.inventory\n",
                "WHERE NOT EXISTS (\n",
                "    SELECT \n",
                "        film_id\n",
                "    FROM dvd_rentals.film\n",
                "    WHERE inventory.film_id = film.film_id\n",
                ")\n",
                "\n",
                "-- All unique film_id values that exist in `inventory` also exist in `film` "
            ],
            "metadata": {
                "language": "sql",
                "azdata_cell_guid": "ef39157b-a5b6-4d81-adb1-3b18ab811db3"
            },
            "outputs": [
                {
                    "output_type": "display_data",
                    "data": {
                        "text/html": "(1 row(s) affected)"
                    },
                    "metadata": {}
                },
                {
                    "output_type": "display_data",
                    "data": {
                        "text/html": "Total execution time: 00:00:00.035"
                    },
                    "metadata": {}
                },
                {
                    "output_type": "execute_result",
                    "metadata": {},
                    "execution_count": 15,
                    "data": {
                        "application/vnd.dataresource+json": {
                            "schema": {
                                "fields": [
                                    {
                                        "name": "count"
                                    }
                                ]
                            },
                            "data": [
                                {
                                    "0": "0"
                                }
                            ]
                        },
                        "text/html": [
                            "<table>",
                            "<tr><th>count</th></tr>",
                            "<tr><td>0</td></tr>",
                            "</table>"
                        ]
                    }
                }
            ],
            "execution_count": 15
        },
        {
            "cell_type": "code",
            "source": [
                "-- only in right \n",
                "SELECT\n",
                "    COUNT(DISTINCT film.film_id)\n",
                "FROM dvd_rentals.film\n",
                "WHERE NOT EXISTS (\n",
                "    SELECT \n",
                "        film_id\n",
                "    FROM dvd_rentals.inventory\n",
                "    WHERE inventory.film_id = film.film_id\n",
                ")\n",
                "\n",
                "-- 42 unique film_id values that exist in `film` do not exist in `inventory`"
            ],
            "metadata": {
                "language": "sql",
                "azdata_cell_guid": "153fed01-9521-45e0-b4ac-4790bdba5cca"
            },
            "outputs": [
                {
                    "output_type": "display_data",
                    "data": {
                        "text/html": "(1 row(s) affected)"
                    },
                    "metadata": {}
                },
                {
                    "output_type": "display_data",
                    "data": {
                        "text/html": "Total execution time: 00:00:00.031"
                    },
                    "metadata": {}
                },
                {
                    "output_type": "execute_result",
                    "metadata": {},
                    "execution_count": 16,
                    "data": {
                        "application/vnd.dataresource+json": {
                            "schema": {
                                "fields": [
                                    {
                                        "name": "count"
                                    }
                                ]
                            },
                            "data": [
                                {
                                    "0": "42"
                                }
                            ]
                        },
                        "text/html": [
                            "<table>",
                            "<tr><th>count</th></tr>",
                            "<tr><td>42</td></tr>",
                            "</table>"
                        ]
                    }
                }
            ],
            "execution_count": 16
        },
        {
            "cell_type": "code",
            "source": [
                "-- Foreign Key values that exist only in right table\n",
                "SELECT *\n",
                "FROM dvd_rentals.film\n",
                "WHERE NOT EXISTS (\n",
                "    SELECT \n",
                "        film_id\n",
                "    FROM dvd_rentals.inventory\n",
                "    WHERE inventory.film_id = film.film_id\n",
                ")\n",
                "LIMIT 5; \n",
                "-- 42 films that do not have any inventories?"
            ],
            "metadata": {
                "language": "sql",
                "azdata_cell_guid": "8d5dd9bf-1e1a-44cd-9c39-a9d30ec2bb8d"
            },
            "outputs": [
                {
                    "output_type": "display_data",
                    "data": {
                        "text/html": "(5 row(s) affected)"
                    },
                    "metadata": {}
                },
                {
                    "output_type": "display_data",
                    "data": {
                        "text/html": "Total execution time: 00:00:00.054"
                    },
                    "metadata": {}
                },
                {
                    "output_type": "execute_result",
                    "metadata": {},
                    "execution_count": 17,
                    "data": {
                        "application/vnd.dataresource+json": {
                            "schema": {
                                "fields": [
                                    {
                                        "name": "film_id"
                                    },
                                    {
                                        "name": "title"
                                    },
                                    {
                                        "name": "description"
                                    },
                                    {
                                        "name": "release_year"
                                    },
                                    {
                                        "name": "language_id"
                                    },
                                    {
                                        "name": "original_language_id"
                                    },
                                    {
                                        "name": "rental_duration"
                                    },
                                    {
                                        "name": "rental_rate"
                                    },
                                    {
                                        "name": "length"
                                    },
                                    {
                                        "name": "replacement_cost"
                                    },
                                    {
                                        "name": "rating"
                                    },
                                    {
                                        "name": "last_update"
                                    },
                                    {
                                        "name": "special_features"
                                    },
                                    {
                                        "name": "fulltext"
                                    }
                                ]
                            },
                            "data": [
                                {
                                    "0": "14",
                                    "1": "ALICE FANTASIA",
                                    "2": "A Emotional Drama of a A Shark And a Database Administrator who must Vanquish a Pioneer in Soviet Georgia",
                                    "3": "2006",
                                    "4": "1",
                                    "5": "NULL",
                                    "6": "6",
                                    "7": "0.99",
                                    "8": "94",
                                    "9": "23.99",
                                    "10": "NC-17",
                                    "11": "2006-02-15T05:03:42",
                                    "12": "[\"Trailers\", \"Deleted Scenes\", \"Behind the Scenes\"]",
                                    "13": "'administr':13 'alic':1 'databas':12 'drama':5 'emot':4 'fantasia':2 'georgia':21 'must':15 'pioneer':18 'shark':9 'soviet':20 'vanquish':16"
                                },
                                {
                                    "0": "33",
                                    "1": "APOLLO TEEN",
                                    "2": "A Action-Packed Reflection of a Crocodile And a Explorer who must Find a Sumo Wrestler in An Abandoned Mine Shaft",
                                    "3": "2006",
                                    "4": "1",
                                    "5": "NULL",
                                    "6": "5",
                                    "7": "2.99",
                                    "8": "153",
                                    "9": "15.99",
                                    "10": "PG-13",
                                    "11": "2006-02-15T05:03:42",
                                    "12": "[\"Trailers\", \"Commentaries\", \"Deleted Scenes\", \"Behind the Scenes\"]",
                                    "13": "'abandon':22 'action':5 'action-pack':4 'apollo':1 'crocodil':10 'explor':13 'find':16 'mine':23 'must':15 'pack':6 'reflect':7 'shaft':24 'sumo':18 'teen':2 'wrestler':19"
                                },
                                {
                                    "0": "36",
                                    "1": "ARGONAUTS TOWN",
                                    "2": "A Emotional Epistle of a Forensic Psychologist And a Butler who must Challenge a Waitress in An Abandoned Mine Shaft",
                                    "3": "2006",
                                    "4": "1",
                                    "5": "NULL",
                                    "6": "7",
                                    "7": "0.99",
                                    "8": "127",
                                    "9": "12.99",
                                    "10": "PG-13",
                                    "11": "2006-02-15T05:03:42",
                                    "12": "[\"Trailers\", \"Commentaries\"]",
                                    "13": "'abandon':20 'argonaut':1 'butler':12 'challeng':15 'emot':4 'epistl':5 'forens':8 'mine':21 'must':14 'psychologist':9 'shaft':22 'town':2 'waitress':17"
                                },
                                {
                                    "0": "38",
                                    "1": "ARK RIDGEMONT",
                                    "2": "A Beautiful Yarn of a Pioneer And a Monkey who must Pursue a Explorer in The Sahara Desert",
                                    "3": "2006",
                                    "4": "1",
                                    "5": "NULL",
                                    "6": "6",
                                    "7": "0.99",
                                    "8": "68",
                                    "9": "25.99",
                                    "10": "NC-17",
                                    "11": "2006-02-15T05:03:42",
                                    "12": "[\"Trailers\", \"Commentaries\", \"Deleted Scenes\", \"Behind the Scenes\"]",
                                    "13": "'ark':1 'beauti':4 'desert':20 'explor':16 'monkey':11 'must':13 'pioneer':8 'pursu':14 'ridgemont':2 'sahara':19 'yarn':5"
                                },
                                {
                                    "0": "41",
                                    "1": "ARSENIC INDEPENDENCE",
                                    "2": "A Fanciful Documentary of a Mad Cow And a Womanizer who must Find a Dentist in Berlin",
                                    "3": "2006",
                                    "4": "1",
                                    "5": "NULL",
                                    "6": "4",
                                    "7": "0.99",
                                    "8": "137",
                                    "9": "17.99",
                                    "10": "PG",
                                    "11": "2006-02-15T05:03:42",
                                    "12": "[\"Trailers\", \"Deleted Scenes\", \"Behind the Scenes\"]",
                                    "13": "'arsenic':1 'berlin':19 'cow':9 'dentist':17 'documentari':5 'fanci':4 'find':15 'independ':2 'mad':8 'must':14 'woman':12"
                                }
                            ]
                        },
                        "text/html": [
                            "<table>",
                            "<tr><th>film_id</th><th>title</th><th>description</th><th>release_year</th><th>language_id</th><th>original_language_id</th><th>rental_duration</th><th>rental_rate</th><th>length</th><th>replacement_cost</th><th>rating</th><th>last_update</th><th>special_features</th><th>fulltext</th></tr>",
                            "<tr><td>14</td><td>ALICE FANTASIA</td><td>A Emotional Drama of a A Shark And a Database Administrator who must Vanquish a Pioneer in Soviet Georgia</td><td>2006</td><td>1</td><td>NULL</td><td>6</td><td>0.99</td><td>94</td><td>23.99</td><td>NC-17</td><td>2006-02-15T05:03:42</td><td>[&quot;Trailers&quot;, &quot;Deleted Scenes&quot;, &quot;Behind the Scenes&quot;]</td><td>'administr':13 'alic':1 'databas':12 'drama':5 'emot':4 'fantasia':2 'georgia':21 'must':15 'pioneer':18 'shark':9 'soviet':20 'vanquish':16</td></tr>",
                            "<tr><td>33</td><td>APOLLO TEEN</td><td>A Action-Packed Reflection of a Crocodile And a Explorer who must Find a Sumo Wrestler in An Abandoned Mine Shaft</td><td>2006</td><td>1</td><td>NULL</td><td>5</td><td>2.99</td><td>153</td><td>15.99</td><td>PG-13</td><td>2006-02-15T05:03:42</td><td>[&quot;Trailers&quot;, &quot;Commentaries&quot;, &quot;Deleted Scenes&quot;, &quot;Behind the Scenes&quot;]</td><td>'abandon':22 'action':5 'action-pack':4 'apollo':1 'crocodil':10 'explor':13 'find':16 'mine':23 'must':15 'pack':6 'reflect':7 'shaft':24 'sumo':18 'teen':2 'wrestler':19</td></tr>",
                            "<tr><td>36</td><td>ARGONAUTS TOWN</td><td>A Emotional Epistle of a Forensic Psychologist And a Butler who must Challenge a Waitress in An Abandoned Mine Shaft</td><td>2006</td><td>1</td><td>NULL</td><td>7</td><td>0.99</td><td>127</td><td>12.99</td><td>PG-13</td><td>2006-02-15T05:03:42</td><td>[&quot;Trailers&quot;, &quot;Commentaries&quot;]</td><td>'abandon':20 'argonaut':1 'butler':12 'challeng':15 'emot':4 'epistl':5 'forens':8 'mine':21 'must':14 'psychologist':9 'shaft':22 'town':2 'waitress':17</td></tr>",
                            "<tr><td>38</td><td>ARK RIDGEMONT</td><td>A Beautiful Yarn of a Pioneer And a Monkey who must Pursue a Explorer in The Sahara Desert</td><td>2006</td><td>1</td><td>NULL</td><td>6</td><td>0.99</td><td>68</td><td>25.99</td><td>NC-17</td><td>2006-02-15T05:03:42</td><td>[&quot;Trailers&quot;, &quot;Commentaries&quot;, &quot;Deleted Scenes&quot;, &quot;Behind the Scenes&quot;]</td><td>'ark':1 'beauti':4 'desert':20 'explor':16 'monkey':11 'must':13 'pioneer':8 'pursu':14 'ridgemont':2 'sahara':19 'yarn':5</td></tr>",
                            "<tr><td>41</td><td>ARSENIC INDEPENDENCE</td><td>A Fanciful Documentary of a Mad Cow And a Womanizer who must Find a Dentist in Berlin</td><td>2006</td><td>1</td><td>NULL</td><td>4</td><td>0.99</td><td>137</td><td>17.99</td><td>PG</td><td>2006-02-15T05:03:42</td><td>[&quot;Trailers&quot;, &quot;Deleted Scenes&quot;, &quot;Behind the Scenes&quot;]</td><td>'arsenic':1 'berlin':19 'cow':9 'dentist':17 'documentari':5 'fanci':4 'find':15 'independ':2 'mad':8 'must':14 'woman':12</td></tr>",
                            "</table>"
                        ]
                    }
                }
            ],
            "execution_count": 17
        },
        {
            "cell_type": "code",
            "source": [
                "-- overlapping foreign key values between `inventory` and `film` tables \n",
                "-- overlap\n",
                "SELECT \n",
                "    COUNT (DISTINCT inventory.film_id)\n",
                "FROM dvd_rentals.inventory\n",
                "WHERE EXISTS (\n",
                "    SELECT film_id\n",
                "    FROM dvd_rentals.film\n",
                "    WHERE inventory.film_id = film.film_id\n",
                ")\n",
                ""
            ],
            "metadata": {
                "language": "sql",
                "azdata_cell_guid": "e1b0123b-d315-47ea-89b6-5dbdf89c7c45"
            },
            "outputs": [
                {
                    "output_type": "display_data",
                    "data": {
                        "text/html": "(1 row(s) affected)"
                    },
                    "metadata": {}
                },
                {
                    "output_type": "display_data",
                    "data": {
                        "text/html": "Total execution time: 00:00:00.034"
                    },
                    "metadata": {}
                },
                {
                    "output_type": "execute_result",
                    "metadata": {},
                    "execution_count": 18,
                    "data": {
                        "application/vnd.dataresource+json": {
                            "schema": {
                                "fields": [
                                    {
                                        "name": "count"
                                    }
                                ]
                            },
                            "data": [
                                {
                                    "0": "958"
                                }
                            ]
                        },
                        "text/html": [
                            "<table>",
                            "<tr><th>count</th></tr>",
                            "<tr><td>958</td></tr>",
                            "</table>"
                        ]
                    }
                }
            ],
            "execution_count": 18
        },
        {
            "cell_type": "code",
            "source": [
                "-- Join Implementation & Output count comparisons: `Inner` vs. `Left` \n",
                "DROP TABLE IF EXISTS inner_join_pt_2; \n",
                "CREATE TEMP TABLE inner_join_pt_2 AS \n",
                "SELECT\n",
                "    inventory.inventory_id, \n",
                "    inventory.film_id, \n",
                "    film.title\n",
                "FROM dvd_rentals.inventory\n",
                "INNER JOIN dvd_rentals.film\n",
                "    ON inventory.film_id = film.film_id; \n",
                "\n",
                "DROP TABLE IF EXISTS left_join_pt_2; \n",
                "CREATE TEMP TABLE left_join_pt_2 AS \n",
                "SELECT\n",
                "    inventory.inventory_id, \n",
                "    inventory.film_id, \n",
                "    film.title\n",
                "FROM dvd_rentals.inventory\n",
                "LEFT JOIN dvd_rentals.film\n",
                "    ON inventory.film_id = film.film_id; \n",
                "\n",
                "\n",
                "(\n",
                "    SELECT\n",
                "        'inner join' AS join_type,\n",
                "        COUNT(*) as record_count, \n",
                "        COUNT(DISTINCT film_id) AS unique_inventory_ids\n",
                "    FROM inner_join_pt_2\n",
                ")\n",
                "UNION\n",
                "(\n",
                "    SELECT\n",
                "        'left join' AS join_type,\n",
                "        COUNT(*) as record_count, \n",
                "        COUNT(DISTINCT film_id) AS unique_inventory_ids\n",
                "    FROM left_join_pt_2\n",
                ")\n",
                "\n",
                "--  no difference between left or inner joins "
            ],
            "metadata": {
                "language": "sql",
                "azdata_cell_guid": "8bbda6db-d747-47eb-bbb9-f688761cc50b"
            },
            "outputs": [
                {
                    "output_type": "display_data",
                    "data": {
                        "text/html": "NOTICE:  table \"inner_join_pt_2\" does not exist, skipping\n"
                    },
                    "metadata": {}
                },
                {
                    "output_type": "display_data",
                    "data": {
                        "text/html": "Commands completed successfully"
                    },
                    "metadata": {}
                },
                {
                    "output_type": "display_data",
                    "data": {
                        "text/html": "Commands completed successfully"
                    },
                    "metadata": {}
                },
                {
                    "output_type": "display_data",
                    "data": {
                        "text/html": "NOTICE:  table \"left_join_pt_2\" does not exist, skipping\n"
                    },
                    "metadata": {}
                },
                {
                    "output_type": "display_data",
                    "data": {
                        "text/html": "Commands completed successfully"
                    },
                    "metadata": {}
                },
                {
                    "output_type": "display_data",
                    "data": {
                        "text/html": "Commands completed successfully"
                    },
                    "metadata": {}
                },
                {
                    "output_type": "display_data",
                    "data": {
                        "text/html": "(2 row(s) affected)"
                    },
                    "metadata": {}
                },
                {
                    "output_type": "display_data",
                    "data": {
                        "text/html": "Total execution time: 00:00:00.050"
                    },
                    "metadata": {}
                },
                {
                    "output_type": "execute_result",
                    "metadata": {},
                    "execution_count": 19,
                    "data": {
                        "application/vnd.dataresource+json": {
                            "schema": {
                                "fields": [
                                    {
                                        "name": "join_type"
                                    },
                                    {
                                        "name": "record_count"
                                    },
                                    {
                                        "name": "unique_inventory_ids"
                                    }
                                ]
                            },
                            "data": [
                                {
                                    "0": "inner join",
                                    "1": "4581",
                                    "2": "958"
                                },
                                {
                                    "0": "left join",
                                    "1": "4581",
                                    "2": "958"
                                }
                            ]
                        },
                        "text/html": [
                            "<table>",
                            "<tr><th>join_type</th><th>record_count</th><th>unique_inventory_ids</th></tr>",
                            "<tr><td>inner join</td><td>4581</td><td>958</td></tr>",
                            "<tr><td>left join</td><td>4581</td><td>958</td></tr>",
                            "</table>"
                        ]
                    }
                }
            ],
            "execution_count": 19
        },
        {
            "cell_type": "markdown",
            "source": [
                "# Joining Parts 1 and 2 "
            ],
            "metadata": {
                "language": "sql",
                "azdata_cell_guid": "2c72f1a2-f2af-465f-8c4c-5c2fe15a696c"
            },
            "attachments": {}
        },
        {
            "cell_type": "code",
            "source": [
                "-- Creating a TEMP TABLE for the join\n",
                "\n",
                "DROP TABLE IF EXISTS join_parts_1_and_2; \n",
                "CREATE TEMP TABLE join_parts_1_and_2 AS\n",
                "SELECT\n",
                "    rental.customer_id, \n",
                "    inventory.film_id, \n",
                "    film.title\n",
                "FROM dvd_rentals.rental\n",
                "INNER JOIN dvd_rentals.inventory\n",
                "    ON rental.inventory_id = inventory.inventory_id\n",
                "INNER JOIN dvd_rentals.film\n",
                "    ON inventory.film_id = film.film_id; \n",
                "\n",
                "\n",
                "SELECT *\n",
                "FROM join_parts_1_and_2\n",
                "LIMIT 10; \n",
                ""
            ],
            "metadata": {
                "language": "sql",
                "azdata_cell_guid": "e3f30c46-12e7-42a4-8801-57ce2191a93b"
            },
            "outputs": [
                {
                    "output_type": "display_data",
                    "data": {
                        "text/html": "NOTICE:  table \"join_parts_1_and_2\" does not exist, skipping\n"
                    },
                    "metadata": {}
                },
                {
                    "output_type": "display_data",
                    "data": {
                        "text/html": "Commands completed successfully"
                    },
                    "metadata": {}
                },
                {
                    "output_type": "display_data",
                    "data": {
                        "text/html": "Commands completed successfully"
                    },
                    "metadata": {}
                },
                {
                    "output_type": "display_data",
                    "data": {
                        "text/html": "(10 row(s) affected)"
                    },
                    "metadata": {}
                },
                {
                    "output_type": "display_data",
                    "data": {
                        "text/html": "Total execution time: 00:00:00.071"
                    },
                    "metadata": {}
                },
                {
                    "output_type": "execute_result",
                    "metadata": {},
                    "execution_count": 20,
                    "data": {
                        "application/vnd.dataresource+json": {
                            "schema": {
                                "fields": [
                                    {
                                        "name": "customer_id"
                                    },
                                    {
                                        "name": "film_id"
                                    },
                                    {
                                        "name": "title"
                                    }
                                ]
                            },
                            "data": [
                                {
                                    "0": "130",
                                    "1": "80",
                                    "2": "BLANKET BEVERLY"
                                },
                                {
                                    "0": "459",
                                    "1": "333",
                                    "2": "FREAKY POCUS"
                                },
                                {
                                    "0": "408",
                                    "1": "373",
                                    "2": "GRADUATE LORD"
                                },
                                {
                                    "0": "333",
                                    "1": "535",
                                    "2": "LOVE SUICIDES"
                                },
                                {
                                    "0": "222",
                                    "1": "450",
                                    "2": "IDOLS SNATCHERS"
                                },
                                {
                                    "0": "549",
                                    "1": "613",
                                    "2": "MYSTIC TRUMAN"
                                },
                                {
                                    "0": "269",
                                    "1": "870",
                                    "2": "SWARM GOLD"
                                },
                                {
                                    "0": "239",
                                    "1": "510",
                                    "2": "LAWLESS VISION"
                                },
                                {
                                    "0": "126",
                                    "1": "565",
                                    "2": "MATRIX SNOWMAN"
                                },
                                {
                                    "0": "399",
                                    "1": "396",
                                    "2": "HANGING DEEP"
                                }
                            ]
                        },
                        "text/html": [
                            "<table>",
                            "<tr><th>customer_id</th><th>film_id</th><th>title</th></tr>",
                            "<tr><td>130</td><td>80</td><td>BLANKET BEVERLY</td></tr>",
                            "<tr><td>459</td><td>333</td><td>FREAKY POCUS</td></tr>",
                            "<tr><td>408</td><td>373</td><td>GRADUATE LORD</td></tr>",
                            "<tr><td>333</td><td>535</td><td>LOVE SUICIDES</td></tr>",
                            "<tr><td>222</td><td>450</td><td>IDOLS SNATCHERS</td></tr>",
                            "<tr><td>549</td><td>613</td><td>MYSTIC TRUMAN</td></tr>",
                            "<tr><td>269</td><td>870</td><td>SWARM GOLD</td></tr>",
                            "<tr><td>239</td><td>510</td><td>LAWLESS VISION</td></tr>",
                            "<tr><td>126</td><td>565</td><td>MATRIX SNOWMAN</td></tr>",
                            "<tr><td>399</td><td>396</td><td>HANGING DEEP</td></tr>",
                            "</table>"
                        ]
                    }
                }
            ],
            "execution_count": 20
        },
        {
            "cell_type": "markdown",
            "source": [
                "# Parts 3: Joining `film_id` with `film_category`"
            ],
            "metadata": {
                "language": "sql",
                "azdata_cell_guid": "50bcca56-c194-4ac1-bce8-f9eada4815bb"
            },
            "attachments": {}
        },
        {
            "cell_type": "code",
            "source": [
                "-- `film_id` distribution on `dvd_rentals.film` 1-to-1 (already explored)\n",
                "\n",
                "-- `film_id` distribution on `dvd_rentals.film_category` 1-to-1 \n",
                "/* we would expect a unique film_id to only have one category, \n",
                "but we would expect a unique category_id to have multiple rows in \n",
                "film_category */\n",
                "\n",
                "SELECT \n",
                "    film_id, \n",
                "    COUNT(*) AS row_count\n",
                "FROM dvd_rentals.film_category\n",
                "GROUP BY film_id\n",
                "ORDER BY row_count DESC \n",
                "LIMIT 5; \n",
                "\n",
                "WITH base_counts AS (\n",
                "SELECT \n",
                "    category_id, \n",
                "    COUNT(*) AS row_count\n",
                "FROM dvd_rentals.film_category\n",
                "GROUP BY category_id\n",
                ")\n",
                "\n",
                "SELECT \n",
                "    row_count, \n",
                "    COUNT(DISTINCT category_id) AS no_of_unique_category_ids\n",
                "FROM base_counts\n",
                "GROUP BY row_count\n",
                "ORDER BY row_count DESC; \n",
                "\n",
                ""
            ],
            "metadata": {
                "language": "sql",
                "azdata_cell_guid": "4f875c44-f6a6-4619-bb02-71d907761b75"
            },
            "outputs": [
                {
                    "output_type": "display_data",
                    "data": {
                        "text/html": "(5 row(s) affected)"
                    },
                    "metadata": {}
                },
                {
                    "output_type": "display_data",
                    "data": {
                        "text/html": "(14 row(s) affected)"
                    },
                    "metadata": {}
                },
                {
                    "output_type": "display_data",
                    "data": {
                        "text/html": "Total execution time: 00:00:00.099"
                    },
                    "metadata": {}
                },
                {
                    "output_type": "execute_result",
                    "metadata": {},
                    "execution_count": 21,
                    "data": {
                        "application/vnd.dataresource+json": {
                            "schema": {
                                "fields": [
                                    {
                                        "name": "film_id"
                                    },
                                    {
                                        "name": "row_count"
                                    }
                                ]
                            },
                            "data": [
                                {
                                    "0": "273",
                                    "1": "1"
                                },
                                {
                                    "0": "51",
                                    "1": "1"
                                },
                                {
                                    "0": "951",
                                    "1": "1"
                                },
                                {
                                    "0": "839",
                                    "1": "1"
                                },
                                {
                                    "0": "652",
                                    "1": "1"
                                }
                            ]
                        },
                        "text/html": [
                            "<table>",
                            "<tr><th>film_id</th><th>row_count</th></tr>",
                            "<tr><td>273</td><td>1</td></tr>",
                            "<tr><td>51</td><td>1</td></tr>",
                            "<tr><td>951</td><td>1</td></tr>",
                            "<tr><td>839</td><td>1</td></tr>",
                            "<tr><td>652</td><td>1</td></tr>",
                            "</table>"
                        ]
                    }
                },
                {
                    "output_type": "execute_result",
                    "metadata": {},
                    "execution_count": 21,
                    "data": {
                        "application/vnd.dataresource+json": {
                            "schema": {
                                "fields": [
                                    {
                                        "name": "row_count"
                                    },
                                    {
                                        "name": "no_of_unique_category_ids"
                                    }
                                ]
                            },
                            "data": [
                                {
                                    "0": "74",
                                    "1": "1"
                                },
                                {
                                    "0": "73",
                                    "1": "1"
                                },
                                {
                                    "0": "69",
                                    "1": "1"
                                },
                                {
                                    "0": "68",
                                    "1": "1"
                                },
                                {
                                    "0": "66",
                                    "1": "1"
                                },
                                {
                                    "0": "64",
                                    "1": "1"
                                },
                                {
                                    "0": "63",
                                    "1": "1"
                                },
                                {
                                    "0": "62",
                                    "1": "1"
                                },
                                {
                                    "0": "61",
                                    "1": "2"
                                },
                                {
                                    "0": "60",
                                    "1": "1"
                                },
                                {
                                    "0": "58",
                                    "1": "1"
                                },
                                {
                                    "0": "57",
                                    "1": "2"
                                },
                                {
                                    "0": "56",
                                    "1": "1"
                                },
                                {
                                    "0": "51",
                                    "1": "1"
                                }
                            ]
                        },
                        "text/html": [
                            "<table>",
                            "<tr><th>row_count</th><th>no_of_unique_category_ids</th></tr>",
                            "<tr><td>74</td><td>1</td></tr>",
                            "<tr><td>73</td><td>1</td></tr>",
                            "<tr><td>69</td><td>1</td></tr>",
                            "<tr><td>68</td><td>1</td></tr>",
                            "<tr><td>66</td><td>1</td></tr>",
                            "<tr><td>64</td><td>1</td></tr>",
                            "<tr><td>63</td><td>1</td></tr>",
                            "<tr><td>62</td><td>1</td></tr>",
                            "<tr><td>61</td><td>2</td></tr>",
                            "<tr><td>60</td><td>1</td></tr>",
                            "<tr><td>58</td><td>1</td></tr>",
                            "<tr><td>57</td><td>2</td></tr>",
                            "<tr><td>56</td><td>1</td></tr>",
                            "<tr><td>51</td><td>1</td></tr>",
                            "</table>"
                        ]
                    }
                }
            ],
            "execution_count": 21
        },
        {
            "cell_type": "code",
            "source": [
                "/* Foreign Key values that only exist in `dvd_rentals.film` and \n",
                "not in `dvd_rentals.film_category` */\n",
                "SELECT\n",
                "    COUNT(DISTINCT film.film_id)\n",
                "FROM dvd_rentals.film\n",
                "WHERE NOT EXISTS (\n",
                "    SELECT film_id\n",
                "    FROM dvd_rentals.film_category\n",
                "    WHERE film.film_id = film_category.film_id\n",
                "); \n",
                "\n",
                "/* Foreign Key values that only exist in `dvd_rentals.film_category` and \n",
                "not in `dvd_rentals.film` */\n",
                "SELECT\n",
                "    COUNT(DISTINCT film_category.film_id)\n",
                "FROM dvd_rentals.film_category\n",
                "WHERE NOT EXISTS (\n",
                "    SELECT film_id\n",
                "    FROM dvd_rentals.film\n",
                "    WHERE film.film_id = film_category.film_id\n",
                ")"
            ],
            "metadata": {
                "language": "sql",
                "azdata_cell_guid": "a65fea00-b70c-4576-915f-beec35139b12"
            },
            "outputs": [
                {
                    "output_type": "display_data",
                    "data": {
                        "text/html": "(1 row(s) affected)"
                    },
                    "metadata": {}
                },
                {
                    "output_type": "display_data",
                    "data": {
                        "text/html": "(1 row(s) affected)"
                    },
                    "metadata": {}
                },
                {
                    "output_type": "display_data",
                    "data": {
                        "text/html": "Total execution time: 00:00:00.058"
                    },
                    "metadata": {}
                },
                {
                    "output_type": "execute_result",
                    "metadata": {},
                    "execution_count": 22,
                    "data": {
                        "application/vnd.dataresource+json": {
                            "schema": {
                                "fields": [
                                    {
                                        "name": "count"
                                    }
                                ]
                            },
                            "data": [
                                {
                                    "0": "0"
                                }
                            ]
                        },
                        "text/html": [
                            "<table>",
                            "<tr><th>count</th></tr>",
                            "<tr><td>0</td></tr>",
                            "</table>"
                        ]
                    }
                },
                {
                    "output_type": "execute_result",
                    "metadata": {},
                    "execution_count": 22,
                    "data": {
                        "application/vnd.dataresource+json": {
                            "schema": {
                                "fields": [
                                    {
                                        "name": "count"
                                    }
                                ]
                            },
                            "data": [
                                {
                                    "0": "0"
                                }
                            ]
                        },
                        "text/html": [
                            "<table>",
                            "<tr><th>count</th></tr>",
                            "<tr><td>0</td></tr>",
                            "</table>"
                        ]
                    }
                }
            ],
            "execution_count": 22
        },
        {
            "cell_type": "code",
            "source": [
                "-- count of foriegn key values that exist in both tables\n",
                "SELECT\n",
                "    COUNT(DISTINCT film.film_id)\n",
                "FROM dvd_rentals.film\n",
                "WHERE EXISTS (\n",
                "    SELECT film_id\n",
                "    FROM dvd_rentals.film_category\n",
                "    WHERE film.film_id = film_category.film_id\n",
                "); "
            ],
            "metadata": {
                "azdata_cell_guid": "4775019f-9761-4a24-9b3f-9afa86715735",
                "language": "sql"
            },
            "outputs": [
                {
                    "output_type": "display_data",
                    "data": {
                        "text/html": "(1 row(s) affected)"
                    },
                    "metadata": {}
                },
                {
                    "output_type": "display_data",
                    "data": {
                        "text/html": "Total execution time: 00:00:00.012"
                    },
                    "metadata": {}
                },
                {
                    "output_type": "execute_result",
                    "metadata": {},
                    "execution_count": 23,
                    "data": {
                        "application/vnd.dataresource+json": {
                            "schema": {
                                "fields": [
                                    {
                                        "name": "count"
                                    }
                                ]
                            },
                            "data": [
                                {
                                    "0": "1000"
                                }
                            ]
                        },
                        "text/html": [
                            "<table>",
                            "<tr><th>count</th></tr>",
                            "<tr><td>1000</td></tr>",
                            "</table>"
                        ]
                    }
                }
            ],
            "execution_count": 23
        },
        {
            "cell_type": "code",
            "source": [
                "-- Join Implementation & Output count comparisons: `Inner` vs. `Left`\n",
                "DROP TABLE IF EXISTS inner_join_pt_3; \n",
                "\n",
                "CREATE TEMP TABLE inner_join_pt_3 AS \n",
                "SELECT \n",
                "    film.film_id, \n",
                "    film_category.category_id\n",
                "FROM dvd_rentals.film\n",
                "INNER JOIN dvd_rentals.film_category\n",
                "    ON film.film_id = film_category.film_id; \n",
                "\n",
                "\n",
                "DROP TABLE IF EXISTS left_join_pt_3; \n",
                "\n",
                "CREATE TEMP TABLE left_join_pt_3 AS \n",
                "SELECT \n",
                "    film.film_id, \n",
                "    film_category.category_id\n",
                "FROM dvd_rentals.film\n",
                "LEFT JOIN dvd_rentals.film_category\n",
                "    ON film.film_id = film_category.film_id; \n",
                "\n",
                "(\n",
                "    SELECT\n",
                "        'inner join' AS join_type,\n",
                "        COUNT(*) AS row_record_count, \n",
                "        COUNT(DISTINCT film_id) AS unique_foreign_value_count\n",
                "    FROM inner_join_pt_3\n",
                ")\n",
                "UNION\n",
                "\n",
                "(\n",
                "    SELECT\n",
                "        'left join' AS join_type,\n",
                "        COUNT(*) AS row_record_count, \n",
                "        COUNT(DISTINCT film_id) AS unique_foreign_value_count\n",
                "    FROM left_join_pt_3\n",
                ")\n",
                "\n",
                "-- No different in raw record counts and unique foreign key value counts"
            ],
            "metadata": {
                "language": "sql",
                "azdata_cell_guid": "0fe7d0b8-816e-4468-ac8c-e1c223082988"
            },
            "outputs": [
                {
                    "output_type": "display_data",
                    "data": {
                        "text/html": "NOTICE:  table \"inner_join_pt_3\" does not exist, skipping\n"
                    },
                    "metadata": {}
                },
                {
                    "output_type": "display_data",
                    "data": {
                        "text/html": "Commands completed successfully"
                    },
                    "metadata": {}
                },
                {
                    "output_type": "display_data",
                    "data": {
                        "text/html": "Commands completed successfully"
                    },
                    "metadata": {}
                },
                {
                    "output_type": "display_data",
                    "data": {
                        "text/html": "NOTICE:  table \"left_join_pt_3\" does not exist, skipping\n"
                    },
                    "metadata": {}
                },
                {
                    "output_type": "display_data",
                    "data": {
                        "text/html": "Commands completed successfully"
                    },
                    "metadata": {}
                },
                {
                    "output_type": "display_data",
                    "data": {
                        "text/html": "Commands completed successfully"
                    },
                    "metadata": {}
                },
                {
                    "output_type": "display_data",
                    "data": {
                        "text/html": "(2 row(s) affected)"
                    },
                    "metadata": {}
                },
                {
                    "output_type": "display_data",
                    "data": {
                        "text/html": "Total execution time: 00:00:00.072"
                    },
                    "metadata": {}
                },
                {
                    "output_type": "execute_result",
                    "metadata": {},
                    "execution_count": 24,
                    "data": {
                        "application/vnd.dataresource+json": {
                            "schema": {
                                "fields": [
                                    {
                                        "name": "join_type"
                                    },
                                    {
                                        "name": "row_record_count"
                                    },
                                    {
                                        "name": "unique_foreign_value_count"
                                    }
                                ]
                            },
                            "data": [
                                {
                                    "0": "inner join",
                                    "1": "1000",
                                    "2": "1000"
                                },
                                {
                                    "0": "left join",
                                    "1": "1000",
                                    "2": "1000"
                                }
                            ]
                        },
                        "text/html": [
                            "<table>",
                            "<tr><th>join_type</th><th>row_record_count</th><th>unique_foreign_value_count</th></tr>",
                            "<tr><td>inner join</td><td>1000</td><td>1000</td></tr>",
                            "<tr><td>left join</td><td>1000</td><td>1000</td></tr>",
                            "</table>"
                        ]
                    }
                }
            ],
            "execution_count": 24
        },
        {
            "cell_type": "markdown",
            "source": [
                "# Part 4: Joining `film_category` with `category`"
            ],
            "metadata": {
                "language": "sql",
                "azdata_cell_guid": "c060996e-1495-4696-92e5-0c844f2d2462"
            },
            "attachments": {}
        },
        {
            "cell_type": "code",
            "source": [
                "WITH base_counts AS (\n",
                "SELECT \n",
                "    category_id, \n",
                "    COUNT(*) AS row_count\n",
                "FROM dvd_rentals.film_category\n",
                "GROUP BY category_id\n",
                ")\n",
                "\n",
                "SELECT \n",
                "    row_count, \n",
                "    COUNT(DISTINCT category_id) AS count_of_unique_cat_id\n",
                "FROM base_counts\n",
                "GROUP BY row_count\n",
                "ORDER BY row_count \n",
                "\n",
                "/* 1-to-many relationship for `category_id` and rows of \n",
                "dvd_rentals.film_category table */"
            ],
            "metadata": {
                "language": "sql",
                "azdata_cell_guid": "db52c0cf-14fe-4066-b9d5-59e41a3c7c15",
                "tags": []
            },
            "outputs": [
                {
                    "output_type": "display_data",
                    "data": {
                        "text/html": "(14 row(s) affected)"
                    },
                    "metadata": {}
                },
                {
                    "output_type": "display_data",
                    "data": {
                        "text/html": "Total execution time: 00:00:00.021"
                    },
                    "metadata": {}
                },
                {
                    "output_type": "execute_result",
                    "metadata": {},
                    "execution_count": 25,
                    "data": {
                        "application/vnd.dataresource+json": {
                            "schema": {
                                "fields": [
                                    {
                                        "name": "row_count"
                                    },
                                    {
                                        "name": "count_of_unique_cat_id"
                                    }
                                ]
                            },
                            "data": [
                                {
                                    "0": "51",
                                    "1": "1"
                                },
                                {
                                    "0": "56",
                                    "1": "1"
                                },
                                {
                                    "0": "57",
                                    "1": "2"
                                },
                                {
                                    "0": "58",
                                    "1": "1"
                                },
                                {
                                    "0": "60",
                                    "1": "1"
                                },
                                {
                                    "0": "61",
                                    "1": "2"
                                },
                                {
                                    "0": "62",
                                    "1": "1"
                                },
                                {
                                    "0": "63",
                                    "1": "1"
                                },
                                {
                                    "0": "64",
                                    "1": "1"
                                },
                                {
                                    "0": "66",
                                    "1": "1"
                                },
                                {
                                    "0": "68",
                                    "1": "1"
                                },
                                {
                                    "0": "69",
                                    "1": "1"
                                },
                                {
                                    "0": "73",
                                    "1": "1"
                                },
                                {
                                    "0": "74",
                                    "1": "1"
                                }
                            ]
                        },
                        "text/html": [
                            "<table>",
                            "<tr><th>row_count</th><th>count_of_unique_cat_id</th></tr>",
                            "<tr><td>51</td><td>1</td></tr>",
                            "<tr><td>56</td><td>1</td></tr>",
                            "<tr><td>57</td><td>2</td></tr>",
                            "<tr><td>58</td><td>1</td></tr>",
                            "<tr><td>60</td><td>1</td></tr>",
                            "<tr><td>61</td><td>2</td></tr>",
                            "<tr><td>62</td><td>1</td></tr>",
                            "<tr><td>63</td><td>1</td></tr>",
                            "<tr><td>64</td><td>1</td></tr>",
                            "<tr><td>66</td><td>1</td></tr>",
                            "<tr><td>68</td><td>1</td></tr>",
                            "<tr><td>69</td><td>1</td></tr>",
                            "<tr><td>73</td><td>1</td></tr>",
                            "<tr><td>74</td><td>1</td></tr>",
                            "</table>"
                        ]
                    }
                }
            ],
            "execution_count": 25
        },
        {
            "cell_type": "code",
            "source": [
                "-- 1-to-1 \n",
                "SELECT \n",
                "    category_id, \n",
                "    COUNT(*) AS record_count\n",
                "FROM dvd_rentals.category\n",
                "GROUP BY category_id\n",
                "ORDER BY record_count DESC \n",
                "LIMIT 5; \n",
                "/* 1-to-1 relationship for `category_id` and rows of \n",
                "dvd_rentals.category table */"
            ],
            "metadata": {
                "language": "sql",
                "azdata_cell_guid": "86d66254-18d4-48e0-893f-faf647cfe51f"
            },
            "outputs": [
                {
                    "output_type": "display_data",
                    "data": {
                        "text/html": "(5 row(s) affected)"
                    },
                    "metadata": {}
                },
                {
                    "output_type": "display_data",
                    "data": {
                        "text/html": "Total execution time: 00:00:00.032"
                    },
                    "metadata": {}
                },
                {
                    "output_type": "execute_result",
                    "metadata": {},
                    "execution_count": 26,
                    "data": {
                        "application/vnd.dataresource+json": {
                            "schema": {
                                "fields": [
                                    {
                                        "name": "category_id"
                                    },
                                    {
                                        "name": "record_count"
                                    }
                                ]
                            },
                            "data": [
                                {
                                    "0": "10",
                                    "1": "1"
                                },
                                {
                                    "0": "6",
                                    "1": "1"
                                },
                                {
                                    "0": "13",
                                    "1": "1"
                                },
                                {
                                    "0": "2",
                                    "1": "1"
                                },
                                {
                                    "0": "4",
                                    "1": "1"
                                }
                            ]
                        },
                        "text/html": [
                            "<table>",
                            "<tr><th>category_id</th><th>record_count</th></tr>",
                            "<tr><td>10</td><td>1</td></tr>",
                            "<tr><td>6</td><td>1</td></tr>",
                            "<tr><td>13</td><td>1</td></tr>",
                            "<tr><td>2</td><td>1</td></tr>",
                            "<tr><td>4</td><td>1</td></tr>",
                            "</table>"
                        ]
                    }
                }
            ],
            "execution_count": 26
        },
        {
            "cell_type": "code",
            "source": [
                "-- no. of unique FKVs in each table\n",
                "-- unique category_id values in the left table and not the right table \n",
                "\n",
                "-- in left, but not right \n",
                "SELECT \n",
                "    COUNT(DISTINCT film_category.category_id)\n",
                "FROM dvd_rentals.film_category\n",
                "WHERE NOT EXISTS ( \n",
                "    SELECT \n",
                "        category_id\n",
                "    FROM dvd_rentals.category\n",
                "    WHERE film_category.category_id = category.category_id\n",
                "); \n",
                "\n",
                "-- in right, but not left \n",
                "SELECT \n",
                "    COUNT(DISTINCT category.category_id)\n",
                "FROM dvd_rentals.category\n",
                "WHERE NOT EXISTS ( \n",
                "    SELECT \n",
                "        category_id\n",
                "    FROM dvd_rentals.film_category\n",
                "    WHERE film_category.category_id = category.category_id\n",
                ")"
            ],
            "metadata": {
                "language": "sql",
                "azdata_cell_guid": "ebac3cac-63cb-49c7-b738-33d4f42a83e0"
            },
            "outputs": [
                {
                    "output_type": "display_data",
                    "data": {
                        "text/html": "(1 row(s) affected)"
                    },
                    "metadata": {}
                },
                {
                    "output_type": "display_data",
                    "data": {
                        "text/html": "(1 row(s) affected)"
                    },
                    "metadata": {}
                },
                {
                    "output_type": "display_data",
                    "data": {
                        "text/html": "Total execution time: 00:00:00.033"
                    },
                    "metadata": {}
                },
                {
                    "output_type": "execute_result",
                    "metadata": {},
                    "execution_count": 27,
                    "data": {
                        "application/vnd.dataresource+json": {
                            "schema": {
                                "fields": [
                                    {
                                        "name": "count"
                                    }
                                ]
                            },
                            "data": [
                                {
                                    "0": "0"
                                }
                            ]
                        },
                        "text/html": [
                            "<table>",
                            "<tr><th>count</th></tr>",
                            "<tr><td>0</td></tr>",
                            "</table>"
                        ]
                    }
                },
                {
                    "output_type": "execute_result",
                    "metadata": {},
                    "execution_count": 27,
                    "data": {
                        "application/vnd.dataresource+json": {
                            "schema": {
                                "fields": [
                                    {
                                        "name": "count"
                                    }
                                ]
                            },
                            "data": [
                                {
                                    "0": "0"
                                }
                            ]
                        },
                        "text/html": [
                            "<table>",
                            "<tr><th>count</th></tr>",
                            "<tr><td>0</td></tr>",
                            "</table>"
                        ]
                    }
                }
            ],
            "execution_count": 27
        },
        {
            "cell_type": "code",
            "source": [
                "-- # FKVs in both tables\n",
                "SELECT \n",
                "    COUNT(DISTINCT film_category.category_id)\n",
                "FROM dvd_rentals.film_category\n",
                "WHERE EXISTS ( \n",
                "    SELECT \n",
                "        category_id\n",
                "    FROM dvd_rentals.category\n",
                "    WHERE film_category.category_id = category.category_id\n",
                ")"
            ],
            "metadata": {
                "language": "sql",
                "azdata_cell_guid": "93ef817f-ae69-4c7a-aa43-33121db7ca3f"
            },
            "outputs": [
                {
                    "output_type": "display_data",
                    "data": {
                        "text/html": "(1 row(s) affected)"
                    },
                    "metadata": {}
                },
                {
                    "output_type": "display_data",
                    "data": {
                        "text/html": "Total execution time: 00:00:00.024"
                    },
                    "metadata": {}
                },
                {
                    "output_type": "execute_result",
                    "metadata": {},
                    "execution_count": 28,
                    "data": {
                        "application/vnd.dataresource+json": {
                            "schema": {
                                "fields": [
                                    {
                                        "name": "count"
                                    }
                                ]
                            },
                            "data": [
                                {
                                    "0": "16"
                                }
                            ]
                        },
                        "text/html": [
                            "<table>",
                            "<tr><th>count</th></tr>",
                            "<tr><td>16</td></tr>",
                            "</table>"
                        ]
                    }
                }
            ],
            "execution_count": 28
        },
        {
            "cell_type": "code",
            "source": [
                "DROP TABLE IF EXISTS inner_join_pt_4; \n",
                "\n",
                "CREATE TEMP TABLE inner_join_pt_4 AS \n",
                "SELECT \n",
                "    film_category.film_id,\n",
                "    film_category.category_id, \n",
                "    category.name\n",
                "FROM dvd_rentals.film_category\n",
                "INNER JOIN dvd_rentals.category\n",
                "    ON film_category.category_id = category.category_id; \n",
                "\n",
                "\n",
                "DROP TABLE IF EXISTS left_join_pt_4; \n",
                "\n",
                "CREATE TEMP TABLE left_join_pt_4 AS \n",
                "SELECT \n",
                "    film_category.film_id,\n",
                "    film_category.category_id, \n",
                "    category.name\n",
                "FROM dvd_rentals.film_category\n",
                "LEFT JOIN dvd_rentals.category\n",
                "    ON film_category.category_id = category.category_id; \n",
                "\n",
                "(\n",
                "    SELECT\n",
                "        'inner join' AS join_type,\n",
                "        COUNT(*) AS row_record_count, \n",
                "        COUNT(DISTINCT category_id) AS unique_category_ids\n",
                "    FROM inner_join_pt_4\n",
                ")\n",
                "UNION\n",
                "\n",
                "(\n",
                "    SELECT\n",
                "        'left join' AS join_type,\n",
                "        COUNT(*) AS row_record_count, \n",
                "        COUNT(DISTINCT category_id) AS unique_category_ids\n",
                "    FROM left_join_pt_4\n",
                ")\n",
                "-- no difference between `inner` and `left` joins"
            ],
            "metadata": {
                "language": "sql",
                "azdata_cell_guid": "f74dff96-5173-464d-a284-591eae3e2939"
            },
            "outputs": [
                {
                    "output_type": "display_data",
                    "data": {
                        "text/html": "NOTICE:  table \"inner_join_pt_4\" does not exist, skipping\n"
                    },
                    "metadata": {}
                },
                {
                    "output_type": "display_data",
                    "data": {
                        "text/html": "Commands completed successfully"
                    },
                    "metadata": {}
                },
                {
                    "output_type": "display_data",
                    "data": {
                        "text/html": "Commands completed successfully"
                    },
                    "metadata": {}
                },
                {
                    "output_type": "display_data",
                    "data": {
                        "text/html": "NOTICE:  table \"left_join_pt_4\" does not exist, skipping\n"
                    },
                    "metadata": {}
                },
                {
                    "output_type": "display_data",
                    "data": {
                        "text/html": "Commands completed successfully"
                    },
                    "metadata": {}
                },
                {
                    "output_type": "display_data",
                    "data": {
                        "text/html": "Commands completed successfully"
                    },
                    "metadata": {}
                },
                {
                    "output_type": "display_data",
                    "data": {
                        "text/html": "(2 row(s) affected)"
                    },
                    "metadata": {}
                },
                {
                    "output_type": "display_data",
                    "data": {
                        "text/html": "Total execution time: 00:00:00.087"
                    },
                    "metadata": {}
                },
                {
                    "output_type": "execute_result",
                    "metadata": {},
                    "execution_count": 29,
                    "data": {
                        "application/vnd.dataresource+json": {
                            "schema": {
                                "fields": [
                                    {
                                        "name": "join_type"
                                    },
                                    {
                                        "name": "row_record_count"
                                    },
                                    {
                                        "name": "unique_category_ids"
                                    }
                                ]
                            },
                            "data": [
                                {
                                    "0": "inner join",
                                    "1": "1000",
                                    "2": "16"
                                },
                                {
                                    "0": "left join",
                                    "1": "1000",
                                    "2": "16"
                                }
                            ]
                        },
                        "text/html": [
                            "<table>",
                            "<tr><th>join_type</th><th>row_record_count</th><th>unique_category_ids</th></tr>",
                            "<tr><td>inner join</td><td>1000</td><td>16</td></tr>",
                            "<tr><td>left join</td><td>1000</td><td>16</td></tr>",
                            "</table>"
                        ]
                    }
                }
            ],
            "execution_count": 29
        },
        {
            "cell_type": "markdown",
            "source": [
                "# Joining Multiple Tables (1, 2, 3, 4)"
            ],
            "metadata": {
                "language": "sql",
                "azdata_cell_guid": "faeae8e0-3dfe-444a-b145-0004203c7ce5"
            },
            "attachments": {}
        },
        {
            "cell_type": "code",
            "source": [
                "-- Joining parts 1, 2, 3, 4 using multiple table joins \n",
                "DROP TABLE IF EXISTS complete_join_dataset; \n",
                "CREATE TEMP TABLE complete_join_dataset AS \n",
                "SELECT\n",
                "    rental.customer_id, \n",
                "    inventory.film_id, \n",
                "    film.title, \n",
                "    film_category.category_id, \n",
                "    category.name AS category_name \n",
                "FROM dvd_rentals.rental\n",
                "INNER JOIN dvd_rentals.inventory\n",
                "    ON rental.inventory_id = inventory.inventory_id\n",
                "INNER JOIN dvd_rentals.film\n",
                "    ON inventory.film_id = film.film_id \n",
                "INNER JOIN dvd_rentals.film_category\n",
                "    ON film.film_id = film_category.film_id \n",
                "INNER JOIN dvd_rentals.category\n",
                "    ON film_category.category_id = category.category_id; \n",
                "\n",
                "SELECT *\n",
                "FROM complete_join_dataset\n",
                "LIMIT 5; "
            ],
            "metadata": {
                "language": "sql",
                "azdata_cell_guid": "20dfb83d-bf7f-4ec1-b3d0-ad77d51eadc0"
            },
            "outputs": [
                {
                    "output_type": "display_data",
                    "data": {
                        "text/html": "NOTICE:  table \"complete_join_dataset\" does not exist, skipping\n"
                    },
                    "metadata": {}
                },
                {
                    "output_type": "display_data",
                    "data": {
                        "text/html": "Commands completed successfully"
                    },
                    "metadata": {}
                },
                {
                    "output_type": "display_data",
                    "data": {
                        "text/html": "Commands completed successfully"
                    },
                    "metadata": {}
                },
                {
                    "output_type": "display_data",
                    "data": {
                        "text/html": "(5 row(s) affected)"
                    },
                    "metadata": {}
                },
                {
                    "output_type": "display_data",
                    "data": {
                        "text/html": "Total execution time: 00:00:00.092"
                    },
                    "metadata": {}
                },
                {
                    "output_type": "execute_result",
                    "metadata": {},
                    "execution_count": 30,
                    "data": {
                        "application/vnd.dataresource+json": {
                            "schema": {
                                "fields": [
                                    {
                                        "name": "customer_id"
                                    },
                                    {
                                        "name": "film_id"
                                    },
                                    {
                                        "name": "title"
                                    },
                                    {
                                        "name": "category_id"
                                    },
                                    {
                                        "name": "category_name"
                                    }
                                ]
                            },
                            "data": [
                                {
                                    "0": "130",
                                    "1": "80",
                                    "2": "BLANKET BEVERLY",
                                    "3": "8",
                                    "4": "Family"
                                },
                                {
                                    "0": "459",
                                    "1": "333",
                                    "2": "FREAKY POCUS",
                                    "3": "12",
                                    "4": "Music"
                                },
                                {
                                    "0": "408",
                                    "1": "373",
                                    "2": "GRADUATE LORD",
                                    "3": "3",
                                    "4": "Children"
                                },
                                {
                                    "0": "333",
                                    "1": "535",
                                    "2": "LOVE SUICIDES",
                                    "3": "11",
                                    "4": "Horror"
                                },
                                {
                                    "0": "222",
                                    "1": "450",
                                    "2": "IDOLS SNATCHERS",
                                    "3": "3",
                                    "4": "Children"
                                }
                            ]
                        },
                        "text/html": [
                            "<table>",
                            "<tr><th>customer_id</th><th>film_id</th><th>title</th><th>category_id</th><th>category_name</th></tr>",
                            "<tr><td>130</td><td>80</td><td>BLANKET BEVERLY</td><td>8</td><td>Family</td></tr>",
                            "<tr><td>459</td><td>333</td><td>FREAKY POCUS</td><td>12</td><td>Music</td></tr>",
                            "<tr><td>408</td><td>373</td><td>GRADUATE LORD</td><td>3</td><td>Children</td></tr>",
                            "<tr><td>333</td><td>535</td><td>LOVE SUICIDES</td><td>11</td><td>Horror</td></tr>",
                            "<tr><td>222</td><td>450</td><td>IDOLS SNATCHERS</td><td>3</td><td>Children</td></tr>",
                            "</table>"
                        ]
                    }
                }
            ],
            "execution_count": 30
        },
        {
            "cell_type": "code",
            "source": [
                "/* Confirming that there's no data loss when using an `inner` join \n",
                "instead of a `left` join */\n",
                "\n",
                "DROP TABLE IF EXISTS complete_joint_dataset; \n",
                "\n",
                "CREATE TEMP TABLE complete_joint_dataset AS \n",
                "SELECT\n",
                "    rental.customer_id, \n",
                "    inventory.film_id, \n",
                "    film.title, \n",
                "    film_category.category_id, \n",
                "    category.name AS category_name \n",
                "FROM dvd_rentals.rental\n",
                "INNER JOIN dvd_rentals.inventory\n",
                "    ON rental.inventory_id = inventory.inventory_id\n",
                "INNER JOIN dvd_rentals.film\n",
                "    ON inventory.film_id = film.film_id \n",
                "INNER JOIN dvd_rentals.film_category\n",
                "    ON film.film_id = film_category.film_id \n",
                "INNER JOIN dvd_rentals.category\n",
                "    ON film_category.category_id = category.category_id; \n",
                "\n",
                "\n",
                "DROP TABLE IF EXISTS complete_joint_dataset_left; \n",
                "\n",
                "CREATE TEMP TABLE complete_joint_dataset_left AS \n",
                "SELECT\n",
                "    rental.customer_id, \n",
                "    inventory.film_id, \n",
                "    film.title, \n",
                "    film_category.category_id, \n",
                "    category.name AS category_name \n",
                "FROM dvd_rentals.rental\n",
                "LEFT JOIN dvd_rentals.inventory\n",
                "    ON rental.inventory_id = inventory.inventory_id\n",
                "LEFT JOIN dvd_rentals.film\n",
                "    ON inventory.film_id = film.film_id \n",
                "LEFT JOIN dvd_rentals.film_category\n",
                "    ON film.film_id = film_category.film_id \n",
                "LEFT JOIN dvd_rentals.category\n",
                "    ON film_category.category_id = category.category_id; \n",
                "\n",
                "SELECT \n",
                "    'inner join' AS join_type,\n",
                "    COUNT(*) AS final_record_count \n",
                "FROM complete_joint_dataset\n",
                "\n",
                "UNION\n",
                "\n",
                "SELECT \n",
                "    'left join' AS join_type,\n",
                "    COUNT(*) AS final_record_count \n",
                "FROM complete_joint_dataset_left"
            ],
            "metadata": {
                "language": "sql",
                "azdata_cell_guid": "cfc2bbaf-bd59-483e-81f6-79b6b3116d82"
            },
            "outputs": [
                {
                    "output_type": "display_data",
                    "data": {
                        "text/html": "NOTICE:  table \"complete_joint_dataset\" does not exist, skipping\n"
                    },
                    "metadata": {}
                },
                {
                    "output_type": "display_data",
                    "data": {
                        "text/html": "Commands completed successfully"
                    },
                    "metadata": {}
                },
                {
                    "output_type": "display_data",
                    "data": {
                        "text/html": "Commands completed successfully"
                    },
                    "metadata": {}
                },
                {
                    "output_type": "display_data",
                    "data": {
                        "text/html": "NOTICE:  table \"complete_joint_dataset_left\" does not exist, skipping\n"
                    },
                    "metadata": {}
                },
                {
                    "output_type": "display_data",
                    "data": {
                        "text/html": "Commands completed successfully"
                    },
                    "metadata": {}
                },
                {
                    "output_type": "display_data",
                    "data": {
                        "text/html": "Commands completed successfully"
                    },
                    "metadata": {}
                },
                {
                    "output_type": "display_data",
                    "data": {
                        "text/html": "(2 row(s) affected)"
                    },
                    "metadata": {}
                },
                {
                    "output_type": "display_data",
                    "data": {
                        "text/html": "Total execution time: 00:00:00.178"
                    },
                    "metadata": {}
                },
                {
                    "output_type": "execute_result",
                    "metadata": {},
                    "execution_count": 31,
                    "data": {
                        "application/vnd.dataresource+json": {
                            "schema": {
                                "fields": [
                                    {
                                        "name": "join_type"
                                    },
                                    {
                                        "name": "final_record_count"
                                    }
                                ]
                            },
                            "data": [
                                {
                                    "0": "inner join",
                                    "1": "16044"
                                },
                                {
                                    "0": "left join",
                                    "1": "16044"
                                }
                            ]
                        },
                        "text/html": [
                            "<table>",
                            "<tr><th>join_type</th><th>final_record_count</th></tr>",
                            "<tr><td>inner join</td><td>16044</td></tr>",
                            "<tr><td>left join</td><td>16044</td></tr>",
                            "</table>"
                        ]
                    }
                }
            ],
            "execution_count": 31
        }
    ]
}